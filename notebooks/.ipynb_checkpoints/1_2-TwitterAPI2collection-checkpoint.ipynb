{
 "cells": [
  {
   "cell_type": "code",
   "execution_count": 44,
   "metadata": {},
   "outputs": [
    {
     "data": {
      "text/plain": [
       "'C:\\\\Users\\\\Leonardo\\\\OneDrive\\\\Documents\\\\TU_Delft\\\\CodingProjects\\\\PoliceBrutality\\\\notebooks'"
      ]
     },
     "execution_count": 44,
     "metadata": {},
     "output_type": "execute_result"
    }
   ],
   "source": [
    "os.getcwd()"
   ]
  },
  {
   "cell_type": "code",
   "execution_count": 1,
   "metadata": {},
   "outputs": [],
   "source": [
    "import requests\n",
    "import os\n",
    "import json\n",
    "import time\n",
    "import datetime\n",
    "import dateutil.parser\n",
    "\n",
    "# To set your environment variables in your terminal run the following line:\n",
    "# export 'BEARER_TOKEN'='<your_bearer_token>'\n",
    "file_name_base = '../data/raw/full_archive_test/' #enter path where you want the file saved to\n",
    "\n",
    "bearer_token = \"AAAAAAAAAAAAAAAAAAAAAI1PNgEAAAAATarF1xcbxxXdqM15JyHfxL8TLqk%3DTbEmtm5q9UZ0rDTUQa0wUerv9w3LHZAX3UM9gn3qDNvFHhTB56\"#os.environ.get(\"BEARER_TOKEN\")\n",
    "\n",
    "search_url = \"https://api.twitter.com/2/tweets/search/all\"\n",
    "\n",
    "# Optional params: start_time,end_time,since_id,until_id,max_results,next_token,\n",
    "# expansions,tweet.fields,media.fields,poll.fields,place.fields,user.fields\n",
    "# query_params = {'query': '(from:twitterdev -is:retweet) OR #twitterdev','tweet.fields': 'author_id'}\n",
    "query_params = {'query': '(george OR floyd OR police OR brutality OR black OR lives OR matter OR blacklivesmatter OR violence) (#blacklivesmatter OR #blm OR #georgefloyd) lang:en has:geo place_country:US',\n",
    "#                 'tweet.fields': 'author_id,conversation_id,created_at,entities,geo,id,in_reply_to_user_id,lang,possibly_sensitive,public_metrics,referenced_tweets,reply_settings,source,text,withheld', point_radius:[-73.935242 40.730610 25mi]\n",
    "                'tweet.fields': 'author_id,conversation_id,created_at,geo,id,in_reply_to_user_id,referenced_tweets',\n",
    "                'place.fields': 'contained_within,country,country_code,full_name,geo,id,name,place_type',\n",
    "                'max_results': '10',\n",
    "                'expansions': 'geo.place_id',\n",
    "#                 'user.fields': 'created_at,description,id,location,name,protected,public_metrics,url,username,verified',\n",
    "                'start_time': '2020-05-26T00:00:00.00Z',\n",
    "                'end_time': '2020-05-27T00:00:00.00Z'}\n",
    "\n",
    "\n",
    "def create_headers(bearer_token):\n",
    "    headers = {\"Authorization\": \"Bearer {}\".format(bearer_token)}\n",
    "    return headers\n",
    "\n",
    "\n",
    "def connect_to_endpoint(url, headers, params):\n",
    "    response = requests.request(\"GET\", search_url, headers=headers, params=params)\n",
    "    print(response.status_code)\n",
    "    if response.status_code != 200:\n",
    "        raise Exception(response.status_code, response.text)\n",
    "    return response.json()\n",
    "\n",
    "\n",
    "def main():\n",
    "    headers = create_headers(bearer_token)\n",
    "    json_response = connect_to_endpoint(search_url, headers, query_params)\n",
    "    print(json.dumps(json_response, indent=4, sort_keys=True))\n",
    "    ts = json_response['data'][-1]['created_at']\n",
    "    stamp = dateutil.parser.parse(ts).strftime('%m%d%H%M%S_%y')\n",
    "    # save one file for each response\n",
    "    file_name = file_name_base + stamp + '.json'\n",
    "    with open(file_name , 'w') as f:\n",
    "        json.dump(json_response['data'], f)\n",
    "\n",
    "    print(\"Collected\", len(json_response['data']), \"tweets from\", json_response['data'][0]['created_at'], \"to\", ts)\n",
    "    # update query with \"next_token\" from the most recent tweet to go to the next search page\n",
    "    query_params['next_token'] = json_response['meta']['next_token']\n",
    "    \n",
    "#     return json_response\n",
    "\n",
    "# if __name__ == \"__main__\":\n",
    "# #     test = main()\n",
    "#     main()\n",
    "\n",
    "    \n",
    "if __name__ == \"__main__\":\n",
    "    while(True):\n",
    "        try:\n",
    "            main()  \n",
    "        except:\n",
    "            time.sleep(10)\n",
    "            print(\"program restart\")"
   ]
  },
  {
   "cell_type": "code",
   "execution_count": null,
   "metadata": {},
   "outputs": [],
   "source": []
  }
 ],
 "metadata": {
  "kernelspec": {
   "display_name": "Python 3",
   "language": "python",
   "name": "python3"
  },
  "language_info": {
   "codemirror_mode": {
    "name": "ipython",
    "version": 3
   },
   "file_extension": ".py",
   "mimetype": "text/x-python",
   "name": "python",
   "nbconvert_exporter": "python",
   "pygments_lexer": "ipython3",
   "version": "3.7.3"
  }
 },
 "nbformat": 4,
 "nbformat_minor": 4
}
