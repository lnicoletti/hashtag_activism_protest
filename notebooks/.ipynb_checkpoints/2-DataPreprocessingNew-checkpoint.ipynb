{
 "cells": [
  {
   "cell_type": "code",
   "execution_count": 1,
   "metadata": {},
   "outputs": [],
   "source": [
    "import os\n",
    "import pandas as pd\n",
    "import numpy as np\n",
    "import tweepy\n",
    "import re\n",
    "import string\n",
    "from textblob import TextBlob\n",
    "import preprocessor as p\n",
    "import nltk\n",
    "from nltk.corpus import stopwords\n",
    "from nltk.tokenize import word_tokenize\n",
    "import json\n",
    "import zipfile\n",
    "import lzma\n",
    "from os.path import isfile, join\n",
    "from random import sample \n",
    "import ast\n",
    "# directory = os.chdir(r'C:\\Users\\Leonardo\\OneDrive\\Documents\\TU_Delft\\CodingProjects\\PoliceBrutality\\data\\raw\\test')\n",
    "directory = os.chdir(r'E:\\PoliceBrutality\\data\\raw\\0529_0607')"
   ]
  },
  {
   "cell_type": "markdown",
   "metadata": {},
   "source": [
    "### Method with Json format"
   ]
  },
  {
   "cell_type": "code",
   "execution_count": 172,
   "metadata": {},
   "outputs": [],
   "source": [
    "# files = [file for file in os.listdir(directory) if file.endswith('.json')]"
   ]
  },
  {
   "cell_type": "code",
   "execution_count": 144,
   "metadata": {},
   "outputs": [],
   "source": [
    "# list_files_sp = [file for day in days for file in files if file.startswith(day)]"
   ]
  },
  {
   "cell_type": "code",
   "execution_count": 115,
   "metadata": {},
   "outputs": [],
   "source": [
    "# # take a 100 sample of each day\n",
    "# for day in days:\n",
    "#     exec(f'list_files_sp_{day} = sample([file for file in files if file.startswith(day)], 100)')"
   ]
  },
  {
   "cell_type": "code",
   "execution_count": null,
   "metadata": {},
   "outputs": [],
   "source": [
    "# # take a 10% sample of each day\n",
    "# days = [\"0529\", '0530', '0531', '0601']\n",
    "\n",
    "# frac = 0.1\n",
    "# samples = []\n",
    "# for day in days:\n",
    "#     exec('l = [file for file in list_files if file.startswith(day)]')\n",
    "#     exec(f'list_files_sp_{day} = sample(l, int(frac*len(l)))')\n",
    "#     exec(f'samples.append(list_files_sp_{day})')\n",
    "    \n",
    "# list_files = [item for sublist in samples for item in sublist]"
   ]
  },
  {
   "cell_type": "code",
   "execution_count": 33,
   "metadata": {},
   "outputs": [],
   "source": [
    "files = [file for file in os.listdir(directory) if file.endswith('.json')]"
   ]
  },
  {
   "cell_type": "code",
   "execution_count": 51,
   "metadata": {},
   "outputs": [],
   "source": [
    "# take a 10% sample of each day\n",
    "days = list(set([file[:4] for file in files]))\n",
    "\n",
    "frac = 0.01\n",
    "samples = []\n",
    "for day in days:\n",
    "    l = [file for file in files if file.startswith(day)]\n",
    "\n",
    "    l_sample = sample(l, int(frac*len(l)))\n",
    "\n",
    "    samples.append(l_sample)\n",
    "    \n",
    "list_files = [item for sublist in samples for item in sublist]"
   ]
  },
  {
   "cell_type": "code",
   "execution_count": 52,
   "metadata": {},
   "outputs": [
    {
     "data": {
      "text/plain": [
       "4078"
      ]
     },
     "execution_count": 52,
     "metadata": {},
     "output_type": "execute_result"
    }
   ],
   "source": [
    "len(list_files)"
   ]
  },
  {
   "cell_type": "code",
   "execution_count": 53,
   "metadata": {},
   "outputs": [
    {
     "data": {
      "text/plain": [
       "4078"
      ]
     },
     "execution_count": 53,
     "metadata": {},
     "output_type": "execute_result"
    }
   ],
   "source": [
    "len(samples[0]) + len(samples[1]) + len(samples[2]) + len(samples[3]) + len(samples[4]) + len(samples[5]) + len(samples[6]) + len(samples[7]) + len(samples[8]) + len(samples[9]) + len(samples[10]) "
   ]
  },
  {
   "cell_type": "code",
   "execution_count": 54,
   "metadata": {},
   "outputs": [],
   "source": [
    "%%time\n",
    "# import re\n",
    "# p = re.compile('(?<!\\\\\\\\)\\'')\n",
    "# tweet_files = [json.loads(json.dumps(line)) for file in list_files[0:2] for line in open(file, 'r')]\n",
    "tweet_files = [json.loads(line) for file in list_files for line in open(file, 'r')]\n",
    "tweets = [tweet for tweet_file in tweet_files for tweet in tweet_file]\n",
    "print(\"Loaded a sample of\", len(tweet_files), \"files and\", len(tweets), \"tweets\")"
   ]
  },
  {
   "cell_type": "code",
   "execution_count": 57,
   "metadata": {},
   "outputs": [
    {
     "name": "stdout",
     "output_type": "stream",
     "text": [
      "Loaded a sample of 4070 files and 407000 tweets\n"
     ]
    }
   ],
   "source": [
    "# tweet_files\n",
    "# tweet_files[0]"
   ]
  },
  {
   "cell_type": "code",
   "execution_count": null,
   "metadata": {},
   "outputs": [],
   "source": [
    "%%time\n",
    "\n",
    "def clean_tweets(tweet):\n",
    " \n",
    "    stop_words = set(stopwords.words('english'))\n",
    "    word_tokens = word_tokenize(tweet)\n",
    "    #after tweepy preprocessing the colon symbol left remain after      #removing mentions\n",
    "    tweet = re.sub(r':', '', tweet)\n",
    "    tweet = re.sub(r'‚Ä¶', '', tweet)\n",
    "    #replace consecutive non-ASCII characters with a space\n",
    "    tweet = re.sub(r'[^\\x00-\\x7F]+',' ', tweet)\n",
    "    #remove emojis from tweet\n",
    "    tweet = emoji_pattern.sub(r'', tweet)\n",
    "    #filter using NLTK library append it to a string\n",
    "    filtered_tweet = [w for w in word_tokens if not w in stop_words]\n",
    "    filtered_tweet = []\n",
    "    #looping through conditions\n",
    "    for w in word_tokens:\n",
    "    #check tokens against stop words , emoticons and punctuations\n",
    "        if w not in stop_words and w not in emoticons and w not in string.punctuation:\n",
    "            filtered_tweet.append(w)\n",
    "    return ' '.join(filtered_tweet)\n",
    "    #print(word_tokens)\n",
    "    #print(filtered_sentence)return tweet\n",
    "    \n",
    "#HappyEmoticons\n",
    "emoticons_happy = set([\n",
    "    ':-)', ':)', ';)', ':o)', ':]', ':3', ':c)', ':>', '=]', '8)', '=)', ':}',\n",
    "    ':^)', ':-D', ':D', '8-D', '8D', 'x-D', 'xD', 'X-D', 'XD', '=-D', '=D',\n",
    "    '=-3', '=3', ':-))', \":'-)\", \":')\", ':*', ':^*', '>:P', ':-P', ':P', 'X-P',\n",
    "    'x-p', 'xp', 'XP', ':-p', ':p', '=p', ':-b', ':b', '>:)', '>;)', '>:-)',\n",
    "    '<3'\n",
    "    ])\n",
    "\n",
    "# Sad Emoticons\n",
    "emoticons_sad = set([\n",
    "    ':L', ':-/', '>:/', ':S', '>:[', ':@', ':-(', ':[', ':-||', '=L', ':<',\n",
    "    ':-[', ':-<', '=\\\\', '=/', '>:(', ':(', '>.<', \":'-(\", \":'(\", ':\\\\', ':-c',\n",
    "    ':c', ':{', '>:\\\\', ';('\n",
    "    ])\n",
    "\n",
    "#Emoji patterns\n",
    "emoji_pattern = re.compile(\"[\"\n",
    "         u\"\\U0001F600-\\U0001F64F\"  # emoticons\n",
    "         u\"\\U0001F300-\\U0001F5FF\"  # symbols & pictographs\n",
    "         u\"\\U0001F680-\\U0001F6FF\"  # transport & map symbols\n",
    "         u\"\\U0001F1E0-\\U0001F1FF\"  # flags (iOS)\n",
    "         u\"\\U00002702-\\U000027B0\"\n",
    "         u\"\\U000024C2-\\U0001F251\"\n",
    "         \"]+\", flags=re.UNICODE)\n",
    "\n",
    "#combine sad and happy emoticons\n",
    "emoticons = emoticons_happy.union(emoticons_sad)\n",
    "    \n",
    "cols = ['tweet_id', 'created_at', 'source', 'text','full_text','clean_text', 'is_retweet', 'sentiment','polarity', 'subjectivity','language', \n",
    "        'coordinates', 'geolocation', 'place_full_name','place_country_code','place_country','place_type','place_bbox', 'user_location', 'user', 'user_friends', \n",
    "        'user_followers', 'original_author', 'hashtags', 'retweet_count', 'favorite_count']\n",
    "\n",
    "tweet_id = []\n",
    "created_at = []\n",
    "source = []\n",
    "text = []\n",
    "full_text = []\n",
    "clean_text = []\n",
    "is_retweet = []\n",
    "sentiment = []\n",
    "polarity = []\n",
    "subjectivity = []\n",
    "lang = []\n",
    "coordinates = []\n",
    "geolocation = []\n",
    "# place = []\n",
    "place_full_name = []\n",
    "place_country_code = []\n",
    "place_country = []\n",
    "place_type = []\n",
    "place_bbox = []\n",
    "user_location = []\n",
    "user = []\n",
    "user_friends = []\n",
    "user_followers = []\n",
    "original_author = []\n",
    "hashtags = []\n",
    "hashtag_list = []\n",
    "retweet_count = []\n",
    "favorite_count = []\n",
    "\n",
    "# create list with all of the json files\n",
    "# list_files = [file for file in os.listdir(directory) if file.endswith('.json')]\n",
    "\n",
    "# tweet_files = [json.loads(line) for file in list_files for line in open(file, 'r')]\n",
    "\n",
    "# tweets = [tweet for tweet_file in tweet_files for tweet in tweet_file]\n",
    "\n",
    "for tweet in range(0, len(tweets)):\n",
    "    # get id\n",
    "    if 'text' in tweets[tweet].keys():\n",
    "        # get id\n",
    "        tweet_id.append(tweets[tweet]['id'])\n",
    "        # get source\n",
    "        source.append(tweets[tweet]['source'])\n",
    "        # get day-time\n",
    "        created_at.append(tweets[tweet]['created_at'])\n",
    "        # get original_text\n",
    "        text.append(tweets[tweet]['text'])\n",
    "        # get language\n",
    "        lang.append(tweets[tweet]['lang'])\n",
    "        # get user screen_name\n",
    "        user.append(tweets[tweet]['user']['screen_name'])\n",
    "        # get user friends\n",
    "        user_friends.append(tweets[tweet]['user']['friends_count'])\n",
    "        # get user followers\n",
    "        user_followers.append(tweets[tweet]['user']['followers_count'])\n",
    "\n",
    "        # get tweet coordinates\n",
    "        try:\n",
    "            coord = tweets[tweet]['coordinates']  \n",
    "        except TypeError:\n",
    "            coord = np.NaN\n",
    "        coordinates.append(coord)\n",
    "\n",
    "        # geo attribute\n",
    "        try:\n",
    "            geo = tweets[tweet]['geo']  \n",
    "        except TypeError:\n",
    "            geo = np.NaN\n",
    "        geolocation.append(geo)\n",
    "\n",
    "        # get tweet place full name\n",
    "        try:\n",
    "            full_name = tweets[tweet]['place']['full_name']\n",
    "        except TypeError:\n",
    "            full_name = np.NaN\n",
    "        place_full_name.append(full_name)\n",
    "        # get tweet place country code\n",
    "        try:\n",
    "            country_code = tweets[tweet]['place']['country_code']\n",
    "        except TypeError:\n",
    "            country_code = np.NaN\n",
    "        place_country_code.append(country_code)\n",
    "        # get tweet place country\n",
    "        try:\n",
    "            country = tweets[tweet]['place']['country']\n",
    "        except TypeError:\n",
    "            country = np.NaN\n",
    "        place_country.append(country)\n",
    "        # get tweet place type\n",
    "        try:\n",
    "            ptype = tweets[tweet]['place']['place_type']\n",
    "        except TypeError:\n",
    "            ptype = np.NaN\n",
    "        place_type.append(ptype)\n",
    "        # get tweet place bounding box\n",
    "        try:\n",
    "            bbox = tweets[tweet]['place']['bounding_box']['coordinates']\n",
    "        except TypeError:\n",
    "            bbox = np.NaN\n",
    "        place_bbox.append(bbox)\n",
    "\n",
    "        # get user location\n",
    "        try:\n",
    "            user_location.append(tweets[tweet]['user']['location'])\n",
    "        except TypeError:\n",
    "            user_location.append(np.NaN)\n",
    "\n",
    "    # Retweet specific attributes:\n",
    "#             if list(pd.Series(tweets[0][tweet]['text']).str.contains('RT '))[0] == False:\n",
    "        if list(pd.Series(tweets[tweet]['text']).str.contains('RT '))[0] == False & tweets[tweet]['is_quote_status'] == False:\n",
    "            ## get full text\n",
    "            try:\n",
    "                full_text.append(tweets[tweet]['extended_tweet']['full_text'])\n",
    "            except KeyError:\n",
    "                full_text.append(tweets[tweet]['text'])\n",
    "            ## get hashtags\n",
    "            hashtags.append(tweets[tweet]['entities']['hashtags'])\n",
    "            ## get retweet count\n",
    "            retweet_count.append(tweets[tweet]['retweet_count'])\n",
    "            ## get favorite count\n",
    "            favorite_count.append(tweets[tweet]['favorite_count'])\n",
    "            ## original author\n",
    "            original_author.append(tweets[tweet]['user']['screen_name'])\n",
    "            ## retweeted status\n",
    "            is_retweet.append(False)\n",
    "            ## quoted status\n",
    "#                 is_quote.append(False)\n",
    "        ## get full text from extended tweet        \n",
    "        else:\n",
    "            ## retweeted status\n",
    "            is_retweet.append(True)\n",
    "\n",
    "            try:\n",
    "                full_text.append(tweets[tweet]['retweeted_status']['extended_tweet']['full_text'])\n",
    "            except KeyError:\n",
    "                try:\n",
    "                    full_text.append(tweets[tweet]['retweeted_status']['quoted_status']['extended_tweet']['full_text'])\n",
    "                except KeyError:\n",
    "                    try:\n",
    "                        full_text.append(tweets[tweet]['quoted_status']['extended_tweet']['full_text'])\n",
    "                    except KeyError:\n",
    "                        try:\n",
    "                            full_text.append(tweets[tweet]['retweeted_status']['text'])\n",
    "                        except KeyError:\n",
    "                            pass\n",
    "\n",
    "            ## get retweet count and favorite count for retweeted tweets\n",
    "            try:\n",
    "                retweet_count.append(tweets[tweet]['retweeted_status']['retweet_count'])\n",
    "            except KeyError:\n",
    "                try:\n",
    "                    retweet_count.append(tweets[tweet]['quoted_status']['retweet_count'])\n",
    "                except KeyError:\n",
    "                    retweet_count.append(np.NaN)\n",
    "            # favorites count\n",
    "            try:\n",
    "                favorite_count.append(tweets[tweet]['retweeted_status']['favorite_count'])\n",
    "            except KeyError:\n",
    "                try:\n",
    "                    favorite_count.append(tweets[tweet]['quoted_status']['favorite_count'])\n",
    "                except KeyError:\n",
    "                    favorite_count.append(np.NaN)\n",
    "            ## get original hashtags\n",
    "            try:\n",
    "                hashtags.append(tweets[tweet]['retweeted_status']['extended_tweet']['entities']['hashtags'])\n",
    "            except KeyError:\n",
    "                try:\n",
    "                    hashtags.append(tweets[tweet]['retweeted_status']['quoted_status']['extended_tweet']['entities']['hashtags'])\n",
    "                except KeyError:\n",
    "                    try:\n",
    "                        hashtags.append(tweets[tweet]['quoted_status']['extended_tweet']['entities']['hashtags'])\n",
    "                    except KeyError:\n",
    "                        try:\n",
    "                            hashtags.append(tweets[tweet]['retweeted_status']['entities']['hashtags'])\n",
    "                        except KeyError:\n",
    "                            hashtags.append(np.NaN)\n",
    "            # get original author\n",
    "            try:\n",
    "                original_author.append(tweets[tweet]['text'].split(\" \",2)[1].replace('@', '').replace(':', ''))\n",
    "            except TypeError:\n",
    "                try:\n",
    "                    original_author.append(tweets[tweet]['quoted_status']['user']['screen_name'])\n",
    "                except KeyError:\n",
    "                    original_author.append(np.NaN)\n",
    "# clean hashtags                    \n",
    "for words in hashtags:\n",
    "    try:\n",
    "        ds = words\n",
    "        d = {}\n",
    "        for k in ds[0].keys():\n",
    "            d[k] = tuple(d[k] for d in ds)\n",
    "        hashtag_list.append(list(d['text']))\n",
    "    except (IndexError, TypeError) as e:\n",
    "        hashtag_list.append(np.NaN)\n",
    "        \n",
    "# clean text and tokenize tweets\n",
    "for t in full_text:\n",
    "    clean_text.append(clean_tweets(p.clean(t)))\n",
    "\n",
    "# sentiment analysis\n",
    "for clean_tweet in clean_text:\n",
    "    blob = TextBlob(clean_tweet)\n",
    "#     sentiment = blob.sentiment\n",
    "    sentiment.append(blob.sentiment)\n",
    "    polarity.append(blob.sentiment.polarity)\n",
    "    subjectivity.append(blob.sentiment.subjectivity)\n",
    "                            \n",
    "tweets_df = pd.DataFrame(list(zip(tweet_id, created_at, source, text, full_text, clean_text, is_retweet, sentiment,polarity, subjectivity, lang, \n",
    "                                  coordinates, geolocation, place_full_name,place_country_code,place_country,place_type,place_bbox, user_location, \n",
    "                                  user, user_friends, user_followers, original_author, hashtag_list, retweet_count, favorite_count)), columns = cols)"
   ]
  },
  {
   "cell_type": "code",
   "execution_count": 142,
   "metadata": {
    "jupyter": {
     "source_hidden": true
    }
   },
   "outputs": [],
   "source": [
    "# %%time\n",
    "\n",
    "# def clean_tweets(tweet):\n",
    " \n",
    "#     stop_words = set(stopwords.words('english'))\n",
    "#     word_tokens = word_tokenize(tweet)\n",
    "#     #after tweepy preprocessing the colon symbol left remain after      #removing mentions\n",
    "#     tweet = re.sub(r':', '', tweet)\n",
    "#     tweet = re.sub(r'‚Ä¶', '', tweet)\n",
    "#     #replace consecutive non-ASCII characters with a space\n",
    "#     tweet = re.sub(r'[^\\x00-\\x7F]+',' ', tweet)\n",
    "#     #remove emojis from tweet\n",
    "#     tweet = emoji_pattern.sub(r'', tweet)\n",
    "#     #filter using NLTK library append it to a string\n",
    "#     filtered_tweet = [w for w in word_tokens if not w in stop_words]\n",
    "#     filtered_tweet = []\n",
    "#     #looping through conditions\n",
    "#     for w in word_tokens:\n",
    "#     #check tokens against stop words , emoticons and punctuations\n",
    "#         if w not in stop_words and w not in emoticons and w not in string.punctuation:\n",
    "#             filtered_tweet.append(w)\n",
    "#     return ' '.join(filtered_tweet)\n",
    "#     #print(word_tokens)\n",
    "#     #print(filtered_sentence)return tweet\n",
    "    \n",
    "# #HappyEmoticons\n",
    "# emoticons_happy = set([\n",
    "#     ':-)', ':)', ';)', ':o)', ':]', ':3', ':c)', ':>', '=]', '8)', '=)', ':}',\n",
    "#     ':^)', ':-D', ':D', '8-D', '8D', 'x-D', 'xD', 'X-D', 'XD', '=-D', '=D',\n",
    "#     '=-3', '=3', ':-))', \":'-)\", \":')\", ':*', ':^*', '>:P', ':-P', ':P', 'X-P',\n",
    "#     'x-p', 'xp', 'XP', ':-p', ':p', '=p', ':-b', ':b', '>:)', '>;)', '>:-)',\n",
    "#     '<3'\n",
    "#     ])\n",
    "\n",
    "# # Sad Emoticons\n",
    "# emoticons_sad = set([\n",
    "#     ':L', ':-/', '>:/', ':S', '>:[', ':@', ':-(', ':[', ':-||', '=L', ':<',\n",
    "#     ':-[', ':-<', '=\\\\', '=/', '>:(', ':(', '>.<', \":'-(\", \":'(\", ':\\\\', ':-c',\n",
    "#     ':c', ':{', '>:\\\\', ';('\n",
    "#     ])\n",
    "\n",
    "# #Emoji patterns\n",
    "# emoji_pattern = re.compile(\"[\"\n",
    "#          u\"\\U0001F600-\\U0001F64F\"  # emoticons\n",
    "#          u\"\\U0001F300-\\U0001F5FF\"  # symbols & pictographs\n",
    "#          u\"\\U0001F680-\\U0001F6FF\"  # transport & map symbols\n",
    "#          u\"\\U0001F1E0-\\U0001F1FF\"  # flags (iOS)\n",
    "#          u\"\\U00002702-\\U000027B0\"\n",
    "#          u\"\\U000024C2-\\U0001F251\"\n",
    "#          \"]+\", flags=re.UNICODE)\n",
    "\n",
    "# #combine sad and happy emoticons\n",
    "# emoticons = emoticons_happy.union(emoticons_sad)\n",
    "    \n",
    "# cols = ['id', 'created_at', 'source', 'text','full_text','clean_text', 'is_retweet', 'sentiment','polarity', 'subjectivity','language', \n",
    "#         'coordinates', 'geolocation', 'place_full_name','place_country_code','place_country','place_type','place_bbox', 'user_location', 'user', 'user_friends', \n",
    "#         'user_followers', 'original_author', 'hashtags', 'retweet_count', 'favorite_count']\n",
    "\n",
    "# id = []\n",
    "# created_at = []\n",
    "# source = []\n",
    "# text = []\n",
    "# full_text = []\n",
    "# clean_text = []\n",
    "# is_retweet = []\n",
    "# sentiment = []\n",
    "# polarity = []\n",
    "# subjectivity = []\n",
    "# lang = []\n",
    "# coordinates = []\n",
    "# geolocation = []\n",
    "# # place = []\n",
    "# place_full_name = []\n",
    "# place_country_code = []\n",
    "# place_country = []\n",
    "# place_type = []\n",
    "# place_bbox = []\n",
    "# user_location = []\n",
    "# user = []\n",
    "# user_friends = []\n",
    "# user_followers = []\n",
    "# original_author = []\n",
    "# hashtags = []\n",
    "# hashtag_list = []\n",
    "# retweet_count = []\n",
    "# favorite_count = []\n",
    "\n",
    "# # create list with all of the json files\n",
    "# list_files = [file for file in os.listdir(directory) if file.endswith('.json')]\n",
    "\n",
    "# tweets = [json.loads(line) for file in list_files for line in open(file, 'r')]\n",
    "\n",
    "# for tweet_file in range(0,len(tweets)):\n",
    "\n",
    "#     for tweet in range(0, len(tweets[tweet_file])):\n",
    "#         # get id\n",
    "#         if 'text' in tweets[0][tweet].keys():\n",
    "#             # get id\n",
    "#             id.append(tweets[0][tweet]['id'])\n",
    "#             # get source\n",
    "#             source.append(tweets[0][tweet]['source'])\n",
    "#             # get day-time\n",
    "#             created_at.append(tweets[0][tweet]['created_at'])\n",
    "#             # get original_text\n",
    "#             text.append(tweets[0][tweet]['text'])\n",
    "#             # get language\n",
    "#             lang.append(tweets[0][tweet]['lang'])\n",
    "#             # get user screen_name\n",
    "#             user.append(tweets[0][tweet]['user']['screen_name'])\n",
    "#             # get user friends\n",
    "#             user_friends.append(tweets[0][tweet]['user']['friends_count'])\n",
    "#             # get user followers\n",
    "#             user_followers.append(tweets[0][tweet]['user']['followers_count'])\n",
    "            \n",
    "#             # get tweet coordinates\n",
    "#             try:\n",
    "#                 coord = tweets[0][tweet]['coordinates']  \n",
    "#             except TypeError:\n",
    "#                 coord = np.NaN\n",
    "#             coordinates.append(coord)\n",
    "            \n",
    "#             # geo attribute\n",
    "#             try:\n",
    "#                 geo = tweets[0][tweet]['geo']  \n",
    "#             except TypeError:\n",
    "#                 geo = np.NaN\n",
    "#             geolocation.append(geo)\n",
    "                \n",
    "#             # get tweet place full name\n",
    "#             try:\n",
    "#                 full_name = tweets[0][tweet]['place']['full_name']\n",
    "#             except TypeError:\n",
    "#                 full_name = np.NaN\n",
    "#             place_full_name.append(full_name)\n",
    "#             # get tweet place country code\n",
    "#             try:\n",
    "#                 country_code = tweets[0][tweet]['place']['country_code']\n",
    "#             except TypeError:\n",
    "#                 country_code = np.NaN\n",
    "#             place_country_code.append(country_code)\n",
    "#             # get tweet place country\n",
    "#             try:\n",
    "#                 country = tweets[0][tweet]['place']['country']\n",
    "#             except TypeError:\n",
    "#                 country = np.NaN\n",
    "#             place_country.append(country)\n",
    "#             # get tweet place type\n",
    "#             try:\n",
    "#                 ptype = tweets[0][tweet]['place']['place_type']\n",
    "#             except TypeError:\n",
    "#                 ptype = np.NaN\n",
    "#             place_type.append(ptype)\n",
    "#             # get tweet place bounding box\n",
    "#             try:\n",
    "#                 bbox = tweets[0][tweet]['place']['bounding_box']['coordinates']\n",
    "#             except TypeError:\n",
    "#                 bbox = np.NaN\n",
    "#             place_bbox.append(bbox)\n",
    "\n",
    "#             # get user location\n",
    "#             try:\n",
    "#                 user_location.append(tweets[0][tweet]['user']['location'])\n",
    "#             except TypeError:\n",
    "#                 user_location.append(np.NaN)\n",
    "\n",
    "#         # Retweet specific attributes:\n",
    "# #             if list(pd.Series(tweets[0][tweet]['text']).str.contains('RT '))[0] == False:\n",
    "#             if list(pd.Series(tweets[0][tweet]['text']).str.contains('RT '))[0] == False & tweets[0][tweet]['is_quote_status'] == False:\n",
    "#                 ## get full text\n",
    "#                 try:\n",
    "#                     full_text.append(tweets[0][tweet]['extended_tweet']['full_text'])\n",
    "#                 except KeyError:\n",
    "#                     full_text.append(tweets[0][tweet]['text'])\n",
    "#                 ## get hashtags\n",
    "#                 hashtags.append(tweets[0][tweet]['entities']['hashtags'])\n",
    "#                 ## get retweet count\n",
    "#                 retweet_count.append(tweets[0][tweet]['retweet_count'])\n",
    "#                 ## get favorite count\n",
    "#                 favorite_count.append(tweets[0][tweet]['favorite_count'])\n",
    "#                 ## original author\n",
    "#                 original_author.append(tweets[0][tweet]['user']['screen_name'])\n",
    "#                 ## retweeted status\n",
    "#                 is_retweet.append(False)\n",
    "#                 ## quoted status\n",
    "# #                 is_quote.append(False)\n",
    "#             ## get full text from extended tweet        \n",
    "#             else:\n",
    "#                 ## retweeted status\n",
    "#                 is_retweet.append(True)\n",
    "                \n",
    "#                 try:\n",
    "#                     full_text.append(tweets[0][tweet]['retweeted_status']['extended_tweet']['full_text'])\n",
    "#                 except KeyError:\n",
    "#                     try:\n",
    "#                         full_text.append(tweets[0][tweet]['retweeted_status']['quoted_status']['extended_tweet']['full_text'])\n",
    "#                     except KeyError:\n",
    "#                         try:\n",
    "#                             full_text.append(tweets[0][tweet]['quoted_status']['extended_tweet']['full_text'])\n",
    "#                         except KeyError:\n",
    "#                             try:\n",
    "#                                 full_text.append(tweets[0][tweet]['retweeted_status']['text'])\n",
    "#                             except KeyError:\n",
    "#                                 pass\n",
    "                            \n",
    "#                 ## get retweet count and favorite count for retweeted tweets\n",
    "#                 try:\n",
    "#                     retweet_count.append(tweets[0][tweet]['retweeted_status']['retweet_count'])\n",
    "#                     favorite_count.append(tweets[0][tweet]['retweeted_status']['favorite_count'])\n",
    "#                 except KeyError:\n",
    "#                     retweet_count.append(tweets[0][tweet]['quoted_status']['retweet_count'])\n",
    "#                     favorite_count.append(tweets[0][tweet]['quoted_status']['favorite_count'])\n",
    "#                 ## get original hashtags\n",
    "#                 try:\n",
    "#                     hashtags.append(tweets[0][tweet]['retweeted_status']['extended_tweet']['entities']['hashtags'])\n",
    "#                 except KeyError:\n",
    "#                     try:\n",
    "#                         hashtags.append(tweets[0][tweet]['retweeted_status']['quoted_status']['extended_tweet']['entities']['hashtags'])\n",
    "#                     except KeyError:\n",
    "#                         try:\n",
    "#                             hashtags.append(tweets[0][tweet]['quoted_status']['extended_tweet']['entities']['hashtags'])\n",
    "#                         except KeyError:\n",
    "#                             try:\n",
    "#                                 hashtags.append(tweets[0][tweet]['retweeted_status']['entities']['hashtags'])\n",
    "#                             except KeyError:\n",
    "#                                 hashtags.append(np.NaN)\n",
    "#                 # get original author\n",
    "#                 try:\n",
    "#                     original_author.append(tweets[0][tweet]['text'].split(\" \",2)[1].replace('@', '').replace(':', ''))\n",
    "#                 except TypeError:\n",
    "#                     try:\n",
    "#                         original_author.append(tweets[0][tweet]['quoted_status']['user']['screen_name'])\n",
    "#                     except KeyError:\n",
    "#                         original_author.append(np.NaN)\n",
    "# # clean hashtags                    \n",
    "# for words in hashtags:\n",
    "#     try:\n",
    "#         ds = words\n",
    "#         d = {}\n",
    "#         for k in ds[0].keys():\n",
    "#             d[k] = tuple(d[k] for d in ds)\n",
    "#         hashtag_list.append(list(d['text']))\n",
    "#     except IndexError:\n",
    "#         hashtag_list.append(np.NaN)\n",
    "        \n",
    "# # clean text and tokenize tweets\n",
    "# for t in full_text:\n",
    "#     clean_text.append(clean_tweets(p.clean(t)))\n",
    "\n",
    "# # sentiment analysis\n",
    "# for clean_tweet in clean_text:\n",
    "#     blob = TextBlob(clean_tweet)\n",
    "# #     sentiment = blob.sentiment\n",
    "#     sentiment.append(blob.sentiment)\n",
    "#     polarity.append(blob.sentiment.polarity)\n",
    "#     subjectivity.append(blob.sentiment.subjectivity)\n",
    "                            \n",
    "# tweets_df = pd.DataFrame(list(zip(id, created_at, source, text, full_text, clean_text, is_retweet, sentiment,polarity, subjectivity, lang, \n",
    "#                                   coordinates, geolocation, place_full_name,place_country_code,place_country,place_type,place_bbox, user_location, \n",
    "#                                   user, user_friends, user_followers, original_author, hashtag_list, retweet_count, favorite_count)), columns = cols)"
   ]
  },
  {
   "cell_type": "code",
   "execution_count": 4,
   "metadata": {},
   "outputs": [],
   "source": [
    "# write files\n",
    "tweets_df.to_csv(f'../interim/sample_{sorted(days[0])}_{sorted(days[-1])}.csv')"
   ]
  },
  {
   "cell_type": "code",
   "execution_count": null,
   "metadata": {},
   "outputs": [],
   "source": []
  },
  {
   "cell_type": "code",
   "execution_count": 4,
   "metadata": {},
   "outputs": [
    {
     "name": "stderr",
     "output_type": "stream",
     "text": [
      "C:\\Users\\Leonardo\\Anaconda3\\lib\\site-packages\\IPython\\core\\interactiveshell.py:3146: DtypeWarning: Columns (12,13) have mixed types.Specify dtype option on import or set low_memory=False.\n",
      "  interactivity=interactivity, compiler=compiler, result=result)\n"
     ]
    }
   ],
   "source": [
    "#load files\n",
    "tweets_df1 = pd.read_csv('../sample.csv')\n",
    "tweets_df2 = pd.read_csv('../sample2.csv')\n",
    "tweets_df3 = pd.read_csv('../sample3.csv')\n",
    "tweets_df4 = pd.read_csv('../sample4.csv')\n",
    "tweets_df5 = pd.read_csv('../sample5.csv')\n",
    "#merge tweets together\n",
    "dfs = [tweets_df1, tweets_df2, tweets_df3, tweets_df4, tweets_df5]\n",
    "tweets_df = pd.concat(dfs).sort_values('created_at').reset_index().drop(['Unnamed: 0', 'index'], axis=1)"
   ]
  },
  {
   "cell_type": "code",
   "execution_count": 51,
   "metadata": {},
   "outputs": [
    {
     "name": "stdout",
     "output_type": "stream",
     "text": [
      "There are 2066655 and 2065577 unique Tweets, from Tue Jun 23 03:25:08 +0000 2020 to Tue Jun 23 23:01:31 +0000 2020\n"
     ]
    }
   ],
   "source": [
    "print(\"There are\", len(tweets_df['tweet_id']), \"and\", len(tweets_df['tweet_id'].unique()), \"unique Tweets, from\", \n",
    "      tweets_df.sort_values('created_at')['created_at'][0], \"to\", tweets_df.sort_values('created_at')['created_at'][len(tweets_df)-1])"
   ]
  },
  {
   "cell_type": "code",
   "execution_count": 55,
   "metadata": {},
   "outputs": [
    {
     "name": "stdout",
     "output_type": "stream",
     "text": [
      "The percentage of geolocated tweets is 0.02472594603356632 %:  511 tweets\n"
     ]
    }
   ],
   "source": [
    "print(\"The percentage of geolocated tweets is\", len(tweets_df['coordinates'][tweets_df['coordinates'].isna()==False])/len(tweets_df)*100, \"%: \", \n",
    "      len(tweets_df['coordinates'][tweets_df['coordinates'].isna()==False]), \"tweets\")"
   ]
  },
  {
   "cell_type": "code",
   "execution_count": 56,
   "metadata": {},
   "outputs": [
    {
     "name": "stdout",
     "output_type": "stream",
     "text": [
      "The percentage of tweets with place is 0.5072447989625748 %:  10483 tweets\n"
     ]
    }
   ],
   "source": [
    "print(\"The percentage of tweets with place is\", len(tweets_df['place_full_name'][tweets_df['place_full_name'].isna()==False])/len(tweets_df)*100, \"%: \", \n",
    "      len(tweets_df['place_full_name'][tweets_df['place_full_name'].isna()==False]), \"tweets\")"
   ]
  },
  {
   "cell_type": "code",
   "execution_count": 57,
   "metadata": {},
   "outputs": [
    {
     "name": "stdout",
     "output_type": "stream",
     "text": [
      "The percentage of tweets with user location is 63.79284399186125 %:  1318439 tweets\n"
     ]
    }
   ],
   "source": [
    "print(\"The percentage of tweets with user location is\", len(tweets_df['user_location'][(tweets_df['user_location'].astype('str') !='None')&\n",
    "                                                                                       (tweets_df['user_location'].isna()==False)])/len(tweets_df)*100, \"%: \", \n",
    "      len(tweets_df['user_location'][tweets_df['user_location'].isna()==False]), \"tweets\")"
   ]
  },
  {
   "cell_type": "code",
   "execution_count": 58,
   "metadata": {},
   "outputs": [
    {
     "name": "stdout",
     "output_type": "stream",
     "text": [
      "The percentage of tweets vs. retweets is 25.35384861738979 %\n"
     ]
    }
   ],
   "source": [
    "print(\"The percentage of tweets vs. retweets is\", len(tweets_df[tweets_df['is_retweet']==False])/len(tweets_df[tweets_df['is_retweet']==True])*100, \"%\")"
   ]
  },
  {
   "cell_type": "markdown",
   "metadata": {},
   "source": [
    "### Sentiment Analysis using Vader"
   ]
  },
  {
   "cell_type": "code",
   "execution_count": 71,
   "metadata": {},
   "outputs": [],
   "source": [
    "%%time\n",
    "def remove_pattern(input_txt, pattern):\n",
    "    r = re.findall(pattern, input_txt)\n",
    "    for i in r:\n",
    "        input_txt = re.sub(i, '', input_txt)        \n",
    "    return input_txt\n",
    "def clean_tweets(tweets):\n",
    "    #remove twitter Return handles (RT @xxx:)\n",
    "    tweets = np.vectorize(remove_pattern)(tweets, \"RT @[\\w]*:\") \n",
    "    \n",
    "    #remove twitter handles (@xxx)\n",
    "    tweets = np.vectorize(remove_pattern)(tweets, \"@[\\w]*\")\n",
    "    \n",
    "    #remove URL links (httpxxx)\n",
    "    tweets = np.vectorize(remove_pattern)(tweets, \"https?://[A-Za-z0-9./]*\")\n",
    "\n",
    "    #remove special characters, numbers, punctuations (except for #)\n",
    "    tweets = np.core.defchararray.replace(tweets, \"[^a-zA-Z]\", \" \")\n",
    "    \n",
    "    return tweets\n",
    "\n",
    "tweets_df['clean_text']= clean_tweets(tweets_df['clean_text'].astype('str')) #The function clean_tweets were put to use.\n",
    "# tweets_df.tail()"
   ]
  },
  {
   "cell_type": "code",
   "execution_count": 80,
   "metadata": {},
   "outputs": [
    {
     "name": "stdout",
     "output_type": "stream",
     "text": [
      "Wall time: 29min 42s\n"
     ]
    }
   ],
   "source": [
    "%%time\n",
    "#importing and initialising the VADER analyser\n",
    "from vaderSentiment.vaderSentiment import SentimentIntensityAnalyzer\n",
    "analyzer = SentimentIntensityAnalyzer()\n",
    "\n",
    "#Storing the scores in list of dictionaries\n",
    "scores = []\n",
    "# Declare variables for scores\n",
    "compound_list = []\n",
    "positive_list = []\n",
    "negative_list = []\n",
    "neutral_list = []\n",
    "for i in range(tweets_df['clean_text'].shape[0]):\n",
    "#print(analyser.polarity_scores(sentiments_pd['Tweet'][i]))\n",
    "    compound = analyzer.polarity_scores(tweets_df['clean_text'][i])[\"compound\"]\n",
    "    pos = analyzer.polarity_scores(tweets_df['clean_text'][i])[\"pos\"]\n",
    "    neu = analyzer.polarity_scores(tweets_df['clean_text'][i])[\"neu\"]\n",
    "    neg = analyzer.polarity_scores(tweets_df['clean_text'][i])[\"neg\"]\n",
    "    \n",
    "    scores.append({\"compound_s\": compound,\n",
    "                       \"positive_s\": pos,\n",
    "                       \"negative_s\": neg,\n",
    "                       \"neutral_s\": neu\n",
    "                  })\n",
    "\n",
    "#Appending the scores into the dataframe for further analysis \n",
    "sentiments_score = pd.DataFrame.from_dict(scores)\n",
    "tweets_df_sent = tweets_df.join(sentiments_score)"
   ]
  },
  {
   "cell_type": "code",
   "execution_count": 81,
   "metadata": {},
   "outputs": [],
   "source": [
    "# tweets_df_sent.to_csv('../2Mtweets_sentiment.csv')"
   ]
  },
  {
   "cell_type": "code",
   "execution_count": 13,
   "metadata": {},
   "outputs": [
    {
     "name": "stderr",
     "output_type": "stream",
     "text": [
      "C:\\Users\\Leonardo\\Anaconda3\\lib\\site-packages\\ipykernel\\ipkernel.py:287: DeprecationWarning: `should_run_async` will not call `transform_cell` automatically in the future. Please pass the result to `transformed_cell` argument and any exception that happen during thetransform in `preprocessing_exc_tuple` in IPython 7.17 and above.\n",
      "  and should_run_async(code)\n"
     ]
    },
    {
     "name": "stdout",
     "output_type": "stream",
     "text": [
      "Wall time: 20.6 s\n"
     ]
    }
   ],
   "source": [
    "%%time\n",
    "# import vaex\n",
    "# tweets_df_sent = vaex.open('../2Mtweets_sentiment.csv')\n",
    "tweets_df_sent = pd.read_csv('../2Mtweets_sentiment.csv')"
   ]
  },
  {
   "cell_type": "code",
   "execution_count": 14,
   "metadata": {},
   "outputs": [
    {
     "name": "stderr",
     "output_type": "stream",
     "text": [
      "C:\\Users\\Leonardo\\Anaconda3\\lib\\site-packages\\ipykernel\\ipkernel.py:287: DeprecationWarning: `should_run_async` will not call `transform_cell` automatically in the future. Please pass the result to `transformed_cell` argument and any exception that happen during thetransform in `preprocessing_exc_tuple` in IPython 7.17 and above.\n",
      "  and should_run_async(code)\n"
     ]
    },
    {
     "data": {
      "text/html": [
       "<div>\n",
       "<style scoped>\n",
       "    .dataframe tbody tr th:only-of-type {\n",
       "        vertical-align: middle;\n",
       "    }\n",
       "\n",
       "    .dataframe tbody tr th {\n",
       "        vertical-align: top;\n",
       "    }\n",
       "\n",
       "    .dataframe thead th {\n",
       "        text-align: right;\n",
       "    }\n",
       "</style>\n",
       "<table border=\"1\" class=\"dataframe\">\n",
       "  <thead>\n",
       "    <tr style=\"text-align: right;\">\n",
       "      <th></th>\n",
       "      <th>Unnamed: 0</th>\n",
       "      <th>tweet_id</th>\n",
       "      <th>created_at</th>\n",
       "      <th>source</th>\n",
       "      <th>text</th>\n",
       "      <th>full_text</th>\n",
       "      <th>clean_text</th>\n",
       "      <th>is_retweet</th>\n",
       "      <th>sentiment</th>\n",
       "      <th>polarity</th>\n",
       "      <th>...</th>\n",
       "      <th>user_friends</th>\n",
       "      <th>user_followers</th>\n",
       "      <th>original_author</th>\n",
       "      <th>hashtags</th>\n",
       "      <th>retweet_count</th>\n",
       "      <th>favorite_count</th>\n",
       "      <th>compound_s</th>\n",
       "      <th>positive_s</th>\n",
       "      <th>negative_s</th>\n",
       "      <th>neutral_s</th>\n",
       "    </tr>\n",
       "  </thead>\n",
       "  <tbody>\n",
       "    <tr>\n",
       "      <th>0</th>\n",
       "      <td>0</td>\n",
       "      <td>1275268627676217345</td>\n",
       "      <td>Tue Jun 23 03:25:08 +0000 2020</td>\n",
       "      <td>&lt;a href=\"http://twitter.com/download/iphone\" r...</td>\n",
       "      <td>RT @DangeRussWilson: The only thing that must ...</td>\n",
       "      <td>The only thing that must die... is \\nRACISM.</td>\n",
       "      <td>The thing must die ... RACISM</td>\n",
       "      <td>True</td>\n",
       "      <td>Sentiment(polarity=0.0, subjectivity=0.0)</td>\n",
       "      <td>0.000000</td>\n",
       "      <td>...</td>\n",
       "      <td>209</td>\n",
       "      <td>341</td>\n",
       "      <td>DangeRussWilson</td>\n",
       "      <td>NaN</td>\n",
       "      <td>10540.0</td>\n",
       "      <td>65764.0</td>\n",
       "      <td>-0.8668</td>\n",
       "      <td>0.000</td>\n",
       "      <td>0.686</td>\n",
       "      <td>0.314</td>\n",
       "    </tr>\n",
       "    <tr>\n",
       "      <th>1</th>\n",
       "      <td>1</td>\n",
       "      <td>1275268628225679361</td>\n",
       "      <td>Tue Jun 23 03:25:08 +0000 2020</td>\n",
       "      <td>&lt;a href=\"https://mobile.twitter.com\" rel=\"nofo...</td>\n",
       "      <td>RT @CIAspygirl: Kayleigh McEnany is only 32. A...</td>\n",
       "      <td>Kayleigh McEnany is only 32. And no matter wha...</td>\n",
       "      <td>Kayleigh McEnany And matter accomplishes lifet...</td>\n",
       "      <td>True</td>\n",
       "      <td>Sentiment(polarity=0.0, subjectivity=0.0)</td>\n",
       "      <td>0.000000</td>\n",
       "      <td>...</td>\n",
       "      <td>1322</td>\n",
       "      <td>280</td>\n",
       "      <td>CIAspygirl</td>\n",
       "      <td>NaN</td>\n",
       "      <td>2844.0</td>\n",
       "      <td>11045.0</td>\n",
       "      <td>-0.7430</td>\n",
       "      <td>0.174</td>\n",
       "      <td>0.370</td>\n",
       "      <td>0.457</td>\n",
       "    </tr>\n",
       "    <tr>\n",
       "      <th>2</th>\n",
       "      <td>2</td>\n",
       "      <td>1275268628305281025</td>\n",
       "      <td>Tue Jun 23 03:25:08 +0000 2020</td>\n",
       "      <td>&lt;a href=\"http://twitter.com/download/android\" ...</td>\n",
       "      <td>RT @TheLeoTerrell: Attention Black Lives Matte...</td>\n",
       "      <td>Attention Black Lives Matter. During Father Da...</td>\n",
       "      <td>Attention Black Lives Matter During Father Day...</td>\n",
       "      <td>True</td>\n",
       "      <td>Sentiment(polarity=-0.12777777777777777, subje...</td>\n",
       "      <td>-0.127778</td>\n",
       "      <td>...</td>\n",
       "      <td>2614</td>\n",
       "      <td>1699</td>\n",
       "      <td>TheLeoTerrell</td>\n",
       "      <td>NaN</td>\n",
       "      <td>10960.0</td>\n",
       "      <td>18739.0</td>\n",
       "      <td>-0.8860</td>\n",
       "      <td>0.108</td>\n",
       "      <td>0.318</td>\n",
       "      <td>0.575</td>\n",
       "    </tr>\n",
       "    <tr>\n",
       "      <th>3</th>\n",
       "      <td>3</td>\n",
       "      <td>1275268628116619266</td>\n",
       "      <td>Tue Jun 23 03:25:08 +0000 2020</td>\n",
       "      <td>&lt;a href=\"http://twitter.com/download/iphone\" r...</td>\n",
       "      <td>RT @letarik_b: THIS BLACK BOY WHO PLAYED THE V...</td>\n",
       "      <td>THIS BLACK BOY WHO PLAYED THE VIOLIN FOR KITTE...</td>\n",
       "      <td>THIS BLACK BOY WHO PLAYED THE VIOLIN FOR KITTE...</td>\n",
       "      <td>True</td>\n",
       "      <td>Sentiment(polarity=-0.18888888888888888, subje...</td>\n",
       "      <td>-0.188889</td>\n",
       "      <td>...</td>\n",
       "      <td>219</td>\n",
       "      <td>74</td>\n",
       "      <td>letarik_b</td>\n",
       "      <td>['ElijahMcClain']</td>\n",
       "      <td>191498.0</td>\n",
       "      <td>270442.0</td>\n",
       "      <td>-0.7526</td>\n",
       "      <td>0.109</td>\n",
       "      <td>0.195</td>\n",
       "      <td>0.696</td>\n",
       "    </tr>\n",
       "    <tr>\n",
       "      <th>4</th>\n",
       "      <td>4</td>\n",
       "      <td>1275268627667628033</td>\n",
       "      <td>Tue Jun 23 03:25:08 +0000 2020</td>\n",
       "      <td>&lt;a href=\"http://twitter.com/download/iphone\" r...</td>\n",
       "      <td>RT @ciarralifts: In case you haven’t heard it ...</td>\n",
       "      <td>In case you haven’t heard it yet today, black ...</td>\n",
       "      <td>In case havent heard yet today black lives fuc...</td>\n",
       "      <td>True</td>\n",
       "      <td>Sentiment(polarity=-0.3833333333333333, subjec...</td>\n",
       "      <td>-0.383333</td>\n",
       "      <td>...</td>\n",
       "      <td>685</td>\n",
       "      <td>575</td>\n",
       "      <td>ciarralifts</td>\n",
       "      <td>NaN</td>\n",
       "      <td>33.0</td>\n",
       "      <td>82.0</td>\n",
       "      <td>0.1010</td>\n",
       "      <td>0.134</td>\n",
       "      <td>0.000</td>\n",
       "      <td>0.866</td>\n",
       "    </tr>\n",
       "  </tbody>\n",
       "</table>\n",
       "<p>5 rows × 31 columns</p>\n",
       "</div>"
      ],
      "text/plain": [
       "   Unnamed: 0             tweet_id                      created_at  \\\n",
       "0           0  1275268627676217345  Tue Jun 23 03:25:08 +0000 2020   \n",
       "1           1  1275268628225679361  Tue Jun 23 03:25:08 +0000 2020   \n",
       "2           2  1275268628305281025  Tue Jun 23 03:25:08 +0000 2020   \n",
       "3           3  1275268628116619266  Tue Jun 23 03:25:08 +0000 2020   \n",
       "4           4  1275268627667628033  Tue Jun 23 03:25:08 +0000 2020   \n",
       "\n",
       "                                              source  \\\n",
       "0  <a href=\"http://twitter.com/download/iphone\" r...   \n",
       "1  <a href=\"https://mobile.twitter.com\" rel=\"nofo...   \n",
       "2  <a href=\"http://twitter.com/download/android\" ...   \n",
       "3  <a href=\"http://twitter.com/download/iphone\" r...   \n",
       "4  <a href=\"http://twitter.com/download/iphone\" r...   \n",
       "\n",
       "                                                text  \\\n",
       "0  RT @DangeRussWilson: The only thing that must ...   \n",
       "1  RT @CIAspygirl: Kayleigh McEnany is only 32. A...   \n",
       "2  RT @TheLeoTerrell: Attention Black Lives Matte...   \n",
       "3  RT @letarik_b: THIS BLACK BOY WHO PLAYED THE V...   \n",
       "4  RT @ciarralifts: In case you haven’t heard it ...   \n",
       "\n",
       "                                           full_text  \\\n",
       "0       The only thing that must die... is \\nRACISM.   \n",
       "1  Kayleigh McEnany is only 32. And no matter wha...   \n",
       "2  Attention Black Lives Matter. During Father Da...   \n",
       "3  THIS BLACK BOY WHO PLAYED THE VIOLIN FOR KITTE...   \n",
       "4  In case you haven’t heard it yet today, black ...   \n",
       "\n",
       "                                          clean_text  is_retweet  \\\n",
       "0                      The thing must die ... RACISM        True   \n",
       "1  Kayleigh McEnany And matter accomplishes lifet...        True   \n",
       "2  Attention Black Lives Matter During Father Day...        True   \n",
       "3  THIS BLACK BOY WHO PLAYED THE VIOLIN FOR KITTE...        True   \n",
       "4  In case havent heard yet today black lives fuc...        True   \n",
       "\n",
       "                                           sentiment  polarity  ...  \\\n",
       "0          Sentiment(polarity=0.0, subjectivity=0.0)  0.000000  ...   \n",
       "1          Sentiment(polarity=0.0, subjectivity=0.0)  0.000000  ...   \n",
       "2  Sentiment(polarity=-0.12777777777777777, subje... -0.127778  ...   \n",
       "3  Sentiment(polarity=-0.18888888888888888, subje... -0.188889  ...   \n",
       "4  Sentiment(polarity=-0.3833333333333333, subjec... -0.383333  ...   \n",
       "\n",
       "   user_friends user_followers  original_author           hashtags  \\\n",
       "0           209            341  DangeRussWilson                NaN   \n",
       "1          1322            280       CIAspygirl                NaN   \n",
       "2          2614           1699    TheLeoTerrell                NaN   \n",
       "3           219             74        letarik_b  ['ElijahMcClain']   \n",
       "4           685            575      ciarralifts                NaN   \n",
       "\n",
       "  retweet_count favorite_count compound_s positive_s negative_s neutral_s  \n",
       "0       10540.0        65764.0    -0.8668      0.000      0.686     0.314  \n",
       "1        2844.0        11045.0    -0.7430      0.174      0.370     0.457  \n",
       "2       10960.0        18739.0    -0.8860      0.108      0.318     0.575  \n",
       "3      191498.0       270442.0    -0.7526      0.109      0.195     0.696  \n",
       "4          33.0           82.0     0.1010      0.134      0.000     0.866  \n",
       "\n",
       "[5 rows x 31 columns]"
      ]
     },
     "execution_count": 14,
     "metadata": {},
     "output_type": "execute_result"
    }
   ],
   "source": [
    "tweets_df_sent.head(5)"
   ]
  },
  {
   "cell_type": "code",
   "execution_count": 15,
   "metadata": {},
   "outputs": [
    {
     "name": "stderr",
     "output_type": "stream",
     "text": [
      "C:\\Users\\Leonardo\\Anaconda3\\lib\\site-packages\\ipykernel\\ipkernel.py:287: DeprecationWarning: `should_run_async` will not call `transform_cell` automatically in the future. Please pass the result to `transformed_cell` argument and any exception that happen during thetransform in `preprocessing_exc_tuple` in IPython 7.17 and above.\n",
      "  and should_run_async(code)\n"
     ]
    },
    {
     "data": {
      "text/plain": [
       "Text(0.5, 0, 'Compound Sentiment')"
      ]
     },
     "execution_count": 15,
     "metadata": {},
     "output_type": "execute_result"
    },
    {
     "data": {
      "image/png": "[encoded data removed]",
      "text/plain": [
       "<Figure size 432x288 with 1 Axes>"
      ]
     },
     "metadata": {},
     "output_type": "display_data"
    }
   ],
   "source": [
    "import matplotlib.pyplot as plt\n",
    "plt.style.use('dark_background')\n",
    "plt.hist(tweets_df_sent['compound_s'].values, bins=40)\n",
    "plt.title('Histogram of Compound Sentiment')\n",
    "plt.ylabel('Number of Tweets')\n",
    "plt.xlabel('Compound Sentiment')"
   ]
  },
  {
   "cell_type": "code",
   "execution_count": 25,
   "metadata": {},
   "outputs": [],
   "source": [
    "from wordcloud import WordCloud\n",
    "from PIL import Image\n",
    "from wordcloud import ImageColorGenerator\n",
    "# import image\n",
    "# char_mask = np.array(Image.open(\"IMAGE_FILE.jpg\"))\n",
    "# image_colors = ImageColorGenerator(char_mask) # to recolor the word cloud to represent the colours from the image\n",
    "# generate wordcloud\n",
    "print('Generating word cloud....')\n",
    "# wc = WordCloud(background_color=\"black\", max_words=700, width=1600, height=800,\n",
    "# mask=char_mask, random_state=1).generate(' '.join(df['Tweet'])) #max_words must be less than number of unique words in your data\n",
    "\n",
    "wc = WordCloud(background_color=\"black\", max_words=700, width=1600, height=800, random_state=1).generate(' '.join(tweets_df_sent['clean_text']))\n",
    "    \n",
    "print('Making plot')\n",
    "plt.figure(figsize=(20,10))\n",
    "ypos = 800\n",
    "plt.style.use('dark_background')\n",
    "plt.imshow(wc) #Shows the word cloud\n",
    "plt.axis(\"off\") \n",
    "# plt.savefig('blm.png') #to save the figure into your system"
   ]
  },
  {
   "cell_type": "code",
   "execution_count": null,
   "metadata": {},
   "outputs": [],
   "source": [
    "# list(tweets_df_sent['full_text'].values)"
   ]
  },
  {
   "cell_type": "code",
   "execution_count": 64,
   "metadata": {},
   "outputs": [
    {
     "data": {
      "text/plain": [
       "Text(0.5, 0, 'Retweets')"
      ]
     },
     "execution_count": 64,
     "metadata": {},
     "output_type": "execute_result"
    },
    {
     "data": {
      "image/png": "[encoded data removed]",
      "text/plain": [
       "<Figure size 432x288 with 1 Axes>"
      ]
     },
     "metadata": {
      "needs_background": "light"
     },
     "output_type": "display_data"
    }
   ],
   "source": [
    "import matplotlib.pyplot as plt\n",
    "n_bins= 30\n",
    "plt.hist(tweets_df['retweet_count'][tweets_df['retweet_count']<100000], n_bins, histtype='step', stacked=True, fill = True)\n",
    "plt.title('Histogram of Retweets')\n",
    "plt.ylabel('Number of Tweets')\n",
    "plt.xlabel('Retweets')"
   ]
  },
  {
   "cell_type": "code",
   "execution_count": 66,
   "metadata": {},
   "outputs": [],
   "source": [
    "import matplotlib.pyplot as plt\n",
    "fig, ax = plt.subplots(figsize=(10,10))\n",
    "ax.plot(tweets_df['created_at'], tweets_df['polarity'])\n",
    "plt.title('Tweet polarity over the course of one day (june 23rd)')\n",
    "plt.ylabel('Polarity')\n",
    "plt.xlabel('Time of Day')"
   ]
  },
  {
   "cell_type": "markdown",
   "metadata": {},
   "source": [
    "# Topic Modelling"
   ]
  },
  {
   "cell_type": "code",
   "execution_count": 47,
   "metadata": {},
   "outputs": [],
   "source": [
    "!pip install emoji --upgrade\n",
    "# !pip install pandas-profiling==2.*\n",
    "# !pip install plotly==4.*\n",
    "!pip install spacy\n",
    "!python -m spacy download en_core_web_lg\n",
    "!pip install pyldavis\n",
    "!pip install gensim\n",
    "# !pip install chart_studio\n",
    "!pip install --upgrade autopep8"
   ]
  },
  {
   "cell_type": "code",
   "execution_count": 21,
   "metadata": {},
   "outputs": [
    {
     "name": "stderr",
     "output_type": "stream",
     "text": [
      "C:\\Users\\Leonardo\\Anaconda3\\lib\\site-packages\\ipykernel\\ipkernel.py:287: DeprecationWarning: `should_run_async` will not call `transform_cell` automatically in the future. Please pass the result to `transformed_cell` argument and any exception that happen during thetransform in `preprocessing_exc_tuple` in IPython 7.17 and above.\n",
      "  and should_run_async(code)\n"
     ]
    }
   ],
   "source": [
    "# Required Libraries\n",
    "import warnings\n",
    "warnings.filterwarnings('ignore')\n",
    "#Base and Cleaning \n",
    "import json\n",
    "import requests\n",
    "import pandas as pd\n",
    "import numpy as np\n",
    "import emoji\n",
    "import regex\n",
    "import re\n",
    "import string\n",
    "from collections import Counter\n",
    "\n",
    "#Visualizations\n",
    "import plotly.express as px\n",
    "import seaborn as sns\n",
    "import matplotlib.pyplot as plt \n",
    "import pyLDAvis.gensim\n",
    "import chart_studio\n",
    "import chart_studio.plotly as py \n",
    "import chart_studio.tools as tls\n",
    "\n",
    "#Natural Language Processing (NLP)\n",
    "import spacy\n",
    "import gensim\n",
    "from spacy.tokenizer import Tokenizer\n",
    "from gensim.corpora import Dictionary\n",
    "from gensim.models.ldamulticore import LdaMulticore\n",
    "from gensim.models.coherencemodel import CoherenceModel\n",
    "from gensim.parsing.preprocessing import STOPWORDS as SW\n",
    "from sklearn.decomposition import LatentDirichletAllocation, TruncatedSVD\n",
    "from sklearn.feature_extraction.text import CountVectorizer, TfidfVectorizer\n",
    "from sklearn.model_selection import GridSearchCV\n",
    "from pprint import pprint\n",
    "from wordcloud import STOPWORDS\n",
    "stopwords = set(STOPWORDS)"
   ]
  },
  {
   "cell_type": "code",
   "execution_count": 44,
   "metadata": {},
   "outputs": [],
   "source": [
    "# def give_emoji_free_text(text):\n",
    "#     \"\"\"\n",
    "#     Removes emoji's from tweets\n",
    "#     Accepts:\n",
    "#         Text (tweets)\n",
    "#     Returns:\n",
    "#         Text (emoji free tweets)\n",
    "#     \"\"\"\n",
    "#     emoji_list = [c for c in text if c in emoji.UNICODE_EMOJI]\n",
    "#     clean_text = ' '.join([str for str in text.split() if not any(i in str for i in emoji_list)])\n",
    "#     return clean_text\n",
    "\n",
    "# def url_free_text(text):\n",
    "#     '''\n",
    "#     Cleans text from urls\n",
    "#     '''\n",
    "#     text = re.sub(r'http\\S+', '', text)\n",
    "#     return text\n",
    "\n",
    "# # Apply the function above and get tweets free of emoji's\n",
    "# call_emoji_free = lambda x: give_emoji_free_text(x)\n",
    "\n",
    "# # Apply `call_emoji_free` which calls the function to remove all emoji's\n",
    "# df['emoji_free_tweets'] = df['original_tweets'].apply(call_emoji_free)\n",
    "\n",
    "# #Create a new column with url free tweets\n",
    "# df['url_free_tweets'] = df['emoji_free_tweets'].apply(url_free_text)"
   ]
  },
  {
   "cell_type": "markdown",
   "metadata": {},
   "source": [
    "### Tokenization\n",
    "Tokenization is always the first step before we can do any text data processing. What this means is that spaCy will segment sentences into words, punctuations, symbols and others by applying specific rules to each language. Spacy is a pre-trained natural language processing model capable of figuring out the relationship between words. You can learn more about Spacy here."
   ]
  },
  {
   "cell_type": "code",
   "execution_count": 41,
   "metadata": {},
   "outputs": [],
   "source": [
    "# drop NaN tweets\n",
    "tweets_df_sent.dropna(subset = ['clean_text', 'full_text'], inplace=True)"
   ]
  },
  {
   "cell_type": "code",
   "execution_count": 42,
   "metadata": {},
   "outputs": [],
   "source": [
    "nlp = spacy.load('en_core_web_lg')\n",
    "# Tokenizer\n",
    "tokenizer = Tokenizer(nlp.vocab)\n",
    "\n",
    "\n",
    "# Custom stopwords\n",
    "custom_stopwords = ['hi','\\n','\\n\\n', '&amp;', ' ', '.', '-', 'got', \"it's\", 'it’s', \"i'm\", 'i’m', 'im', 'want', 'like', '$', '@']\n",
    "\n",
    "# Customize stop words by adding to the default list\n",
    "STOP_WORDS = nlp.Defaults.stop_words.union(custom_stopwords)\n",
    "\n",
    "# ALL_STOP_WORDS = spacy + gensim + wordcloud\n",
    "ALL_STOP_WORDS = STOP_WORDS.union(SW).union(stopwords)\n",
    "\n",
    "\n",
    "tokens = []\n",
    "\n",
    "for doc in tokenizer.pipe(tweets_df_sent['clean_text'], batch_size=500):\n",
    "    doc_tokens = []    \n",
    "    for token in doc: \n",
    "        if token.text.lower() not in STOP_WORDS:\n",
    "            doc_tokens.append(token.text.lower())   \n",
    "    tokens.append(doc_tokens)\n",
    "\n",
    "# Makes tokens column\n",
    "tweets_df_sent['tokens'] = tokens"
   ]
  },
  {
   "cell_type": "markdown",
   "metadata": {},
   "source": [
    "### Lemmetization\n",
    "Lemmatization is a process where we convert words to its root word. For example: ‘Studying’ becomes ‘Study’, ‘Meeting becomes ‘Meet’, ‘Better’ and ‘Best’ become ‘Good’.The advantage of this is, we get to reduce the total number of unique words in the dictionary. As a result, the number of columns in the document-word matrix will be denser with lesser columns. The ultimate goal of lemmatization is to help the LDA model to produce better topics in the end."
   ]
  },
  {
   "cell_type": "code",
   "execution_count": 44,
   "metadata": {},
   "outputs": [],
   "source": [
    "# Make tokens a string again\n",
    "tweets_df_sent['tokens_back_to_text'] = [' '.join(map(str, l)) for l in tweets_df_sent['tokens']]\n",
    "\n",
    "def get_lemmas(text):\n",
    "    '''Used to lemmatize the processed tweets'''\n",
    "    lemmas = []\n",
    "    \n",
    "    doc = nlp(text)\n",
    "    \n",
    "    # Something goes here :P\n",
    "    for token in doc: \n",
    "        if ((token.is_stop == False) and (token.is_punct == False)) and (token.pos_ != 'PRON'):\n",
    "            lemmas.append(token.lemma_)\n",
    "    \n",
    "    return lemmas\n",
    "\n",
    "tweets_df_sent['lemmas'] = tweets_df_sent['tokens_back_to_text'].apply(get_lemmas)"
   ]
  },
  {
   "cell_type": "code",
   "execution_count": 45,
   "metadata": {},
   "outputs": [],
   "source": [
    "# Make lemmas a string again\n",
    "tweets_df_sent['lemmas_back_to_text'] = [' '.join(map(str, l)) for l in tweets_df_sent['lemmas']]\n",
    "\n",
    "# Tokenizer function\n",
    "def tokenize(text):\n",
    "    \"\"\"\n",
    "    Parses a string into a list of semantic units (words)\n",
    "    Args:\n",
    "        text (str): The string that the function will tokenize.\n",
    "    Returns:\n",
    "        list: tokens parsed out\n",
    "    \"\"\"\n",
    "    # Removing url's\n",
    "    pattern = r\"http\\S+\"\n",
    "    \n",
    "    tokens = re.sub(pattern, \"\", text) # https://www.youtube.com/watch?v=O2onA4r5UaY\n",
    "    tokens = re.sub('[^a-zA-Z 0-9]', '', text)\n",
    "    tokens = re.sub('[%s]' % re.escape(string.punctuation), '', text) # Remove punctuation\n",
    "    tokens = re.sub('\\w*\\d\\w*', '', text) # Remove words containing numbers\n",
    "    tokens = re.sub('@*!*\\$*', '', text) # Remove @ ! $\n",
    "    tokens = tokens.strip(',') # TESTING THIS LINE\n",
    "    tokens = tokens.strip('?') # TESTING THIS LINE\n",
    "    tokens = tokens.strip('!') # TESTING THIS LINE\n",
    "    tokens = tokens.strip(\"'\") # TESTING THIS LINE\n",
    "    tokens = tokens.strip(\".\") # TESTING THIS LINE\n",
    "\n",
    "    tokens = tokens.lower().split() # Make text lowercase and split it\n",
    "    \n",
    "    return tokens\n",
    "\n",
    "# Apply tokenizer\n",
    "tweets_df_sent['lemma_tokens'] = tweets_df_sent['lemmas_back_to_text'].apply(tokenize)"
   ]
  },
  {
   "cell_type": "code",
   "execution_count": 46,
   "metadata": {},
   "outputs": [],
   "source": [
    "tweets_df_sent.to_csv('../2Mtweets_sentiment_lt.csv')"
   ]
  },
  {
   "cell_type": "code",
   "execution_count": null,
   "metadata": {},
   "outputs": [],
   "source": []
  },
  {
   "cell_type": "code",
   "execution_count": null,
   "metadata": {},
   "outputs": [],
   "source": []
  },
  {
   "cell_type": "code",
   "execution_count": 11,
   "metadata": {},
   "outputs": [],
   "source": [
    "data = pd.read_csv('100000_tweets.csv')"
   ]
  },
  {
   "cell_type": "code",
   "execution_count": null,
   "metadata": {},
   "outputs": [],
   "source": []
  },
  {
   "cell_type": "code",
   "execution_count": null,
   "metadata": {},
   "outputs": [],
   "source": []
  },
  {
   "cell_type": "code",
   "execution_count": null,
   "metadata": {},
   "outputs": [],
   "source": []
  },
  {
   "cell_type": "code",
   "execution_count": null,
   "metadata": {},
   "outputs": [],
   "source": []
  },
  {
   "cell_type": "code",
   "execution_count": null,
   "metadata": {},
   "outputs": [],
   "source": []
  },
  {
   "cell_type": "code",
   "execution_count": null,
   "metadata": {},
   "outputs": [],
   "source": []
  },
  {
   "cell_type": "code",
   "execution_count": null,
   "metadata": {},
   "outputs": [],
   "source": []
  },
  {
   "cell_type": "code",
   "execution_count": 2,
   "metadata": {},
   "outputs": [],
   "source": [
    "# Stream a user timeline\n",
    "import tweepy\n",
    "from tweepy import OAuthHandler\n",
    "import json\n",
    " \n",
    "consumer_key = 'BrfwPUQwUrXrTI8PsbpQLd8cY'\n",
    "consumer_secret = '71FyuTaHH6qoPZdilbXONYRn9mURCSJLGgJYpFzdscmzCrGY9N'\n",
    "access_token = '306806203-TCvwu2u4fKPEPJE6OQnc1s7VuIGNYb3cbDPK9h49'\n",
    "access_secret = 'b1COlCPF0eUIb74vsw01lV0maoy28nxYlKvt5W4lL1phz'\n",
    " \n",
    "@classmethod\n",
    "def parse(cls, api, raw):\n",
    "    status = cls.first_parse(api, raw)\n",
    "    setattr(status, 'json', json.dumps(raw))\n",
    "    return status\n",
    " \n",
    "# Status() is the data model for a tweet\n",
    "tweepy.models.Status.first_parse = tweepy.models.Status.parse\n",
    "tweepy.models.Status.parse = parse\n",
    "# User() is the data model for a user profile\n",
    "tweepy.models.User.first_parse = tweepy.models.User.parse\n",
    "tweepy.models.User.parse = parse\n",
    "# You need to do it for all the models you need\n",
    " \n",
    "auth = OAuthHandler(consumer_key, consumer_secret)\n",
    "auth.set_access_token(access_token, access_secret)\n",
    " \n",
    "api = tweepy.API(auth)"
   ]
  },
  {
   "cell_type": "code",
   "execution_count": 208,
   "metadata": {},
   "outputs": [],
   "source": [
    "username = 'greg_doucette'\n",
    "tweets = []\n",
    "for tweet in tweepy.Cursor(api.user_timeline, id=username, tweet_mode='extended').items():\n",
    "    tweets += tweet.status"
   ]
  },
  {
   "cell_type": "code",
   "execution_count": 210,
   "metadata": {},
   "outputs": [
    {
     "data": {
      "text/plain": [
       "0"
      ]
     },
     "execution_count": 210,
     "metadata": {},
     "output_type": "execute_result"
    }
   ],
   "source": []
  },
  {
   "cell_type": "code",
   "execution_count": 3,
   "metadata": {},
   "outputs": [
    {
     "name": "stdout",
     "output_type": "stream",
     "text": [
      "3000\n"
     ]
    }
   ],
   "source": [
    "import sys\n",
    "print(sys.getrecursionlimit())\n",
    "sys.setrecursionlimit(5000)\n",
    "username = 'greg_doucette'\n",
    "def get_all_tweets(screen_name):\n",
    "    #Twitter only allows access to a users most recent 3240 tweets with this method\n",
    "    \n",
    "    #authorize twitter, initialize tweepy\n",
    "    auth = tweepy.OAuthHandler(consumer_key, consumer_secret)\n",
    "    auth.set_access_token(access_token, access_secret)\n",
    "    api = tweepy.API(auth)\n",
    "    \n",
    "    #initialize a list to hold all the tweepy Tweets\n",
    "    alltweets = []  \n",
    "    \n",
    "    #make initial request for most recent tweets (200 is the maximum allowed count)\n",
    "    new_tweets = api.user_timeline(screen_name = screen_name,count=200, tweet_mode='extended')\n",
    "    \n",
    "    #save most recent tweets\n",
    "    alltweets.extend(new_tweets)\n",
    "    \n",
    "    #save the id of the oldest tweet less one\n",
    "    oldest = alltweets[-1].id - 1\n",
    "    \n",
    "    #keep grabbing tweets until there are no tweets left to grab\n",
    "    while len(new_tweets) > 0:\n",
    "        print(f\"getting tweets before {oldest}\")\n",
    "        \n",
    "        #all subsiquent requests use the max_id param to prevent duplicates\n",
    "        new_tweets = api.user_timeline(screen_name = screen_name,count=200,max_id=oldest, tweet_mode='extended')\n",
    "        \n",
    "        #save most recent tweets\n",
    "        alltweets.extend(new_tweets)\n",
    "        \n",
    "        #update the id of the oldest tweet less one\n",
    "        oldest = alltweets[-1].id - 1\n",
    "        \n",
    "        print(f\"...{len(alltweets)} tweets downloaded so far\")\n",
    "        \n",
    "    return alltweets"
   ]
  },
  {
   "cell_type": "code",
   "execution_count": 5,
   "metadata": {},
   "outputs": [],
   "source": [
    "tweets = get_all_tweets(username)"
   ]
  },
  {
   "cell_type": "code",
   "execution_count": 34,
   "metadata": {},
   "outputs": [
    {
     "data": {
      "text/plain": [
       "3203"
      ]
     },
     "execution_count": 34,
     "metadata": {},
     "output_type": "execute_result"
    }
   ],
   "source": [
    "len(tweet_files)"
   ]
  },
  {
   "cell_type": "code",
   "execution_count": 18,
   "metadata": {},
   "outputs": [],
   "source": [
    "# save tweets to file\n",
    "tweet_files = []\n",
    "for status in tweets:\n",
    "    tweet_files.append(status._json)\n",
    "# write files\n",
    "with open(username + \"3200_extended_tweets.json\", 'w') as f:\n",
    "    json.dump(tweet_files, f)"
   ]
  },
  {
   "cell_type": "code",
   "execution_count": 30,
   "metadata": {},
   "outputs": [],
   "source": [
    "tweets = []\n",
    "for line in open('greg_doucette3200_extended_tweets.json', 'r'):\n",
    "    tweets.append(json.loads(line))"
   ]
  },
  {
   "cell_type": "code",
   "execution_count": 27,
   "metadata": {},
   "outputs": [],
   "source": [
    "video_urls = []\n",
    "text = []\n",
    "created_at = []\n",
    "location = []\n",
    "for tweet in range(len(tweet_files)-1):\n",
    "    if 'extended_entities' in tweet_files[tweet].keys():\n",
    "        if tweet_files[tweet]['extended_entities']['media'][0]['type'] == 'video':\n",
    "#         if tweet_files[tweet]['in_reply_to_status_id_str'] == '1268773302421651462':\n",
    "#         if 'media' in tweet_files[tweet]['extended_entities'].keys():\n",
    "            try:\n",
    "                video_urls.append(tweet_files[tweet]['extended_entities']['media'][0]['video_info']['variants'][1]['url'])\n",
    "            except KeyError:\n",
    "                video_urls.append(None)\n",
    "            text.append(tweet_files[tweet]['full_text'])\n",
    "            created_at.append(tweet_files[tweet]['created_at'])\n",
    "            location.append(tweet_files[tweet]['full_text'].split(\":\")[0])"
   ]
  },
  {
   "cell_type": "code",
   "execution_count": null,
   "metadata": {},
   "outputs": [],
   "source": [
    "# 1\\ufe0f\\u20e34\\ufe0f\\u20e36\\ufe0f\\u20e3"
   ]
  },
  {
   "cell_type": "code",
   "execution_count": 174,
   "metadata": {},
   "outputs": [
    {
     "data": {
      "text/plain": [
       "[]"
      ]
     },
     "execution_count": 174,
     "metadata": {},
     "output_type": "execute_result"
    }
   ],
   "source": [
    "# threads: 1268773302421651462, 1267974239237345280\n",
    "video_urls"
   ]
  },
  {
   "cell_type": "code",
   "execution_count": 172,
   "metadata": {},
   "outputs": [
    {
     "data": {
      "text/plain": [
       "\"Y'all remember 1️⃣4️⃣6️⃣ out of Richmond VA?\\n\\nWhere police opened fire on peaceful protestors without provocation?… https://t.co/mON0HbyxSd\""
      ]
     },
     "execution_count": 172,
     "metadata": {},
     "output_type": "execute_result"
    }
   ],
   "source": [
    "tweet_files[9]['text']"
   ]
  },
  {
   "cell_type": "code",
   "execution_count": null,
   "metadata": {},
   "outputs": [],
   "source": [
    "tweet_files[10]"
   ]
  },
  {
   "cell_type": "code",
   "execution_count": 44,
   "metadata": {},
   "outputs": [],
   "source": [
    "import wget"
   ]
  },
  {
   "cell_type": "code",
   "execution_count": 73,
   "metadata": {},
   "outputs": [
    {
     "name": "stdout",
     "output_type": "stream",
     "text": [
      "100% [........................................................................] 25757991 / 25757991"
     ]
    },
    {
     "data": {
      "text/plain": [
       "'0BaH6MSWxSZavX2o.mp4'"
      ]
     },
     "execution_count": 73,
     "metadata": {},
     "output_type": "execute_result"
    }
   ],
   "source": [
    "import wget\n",
    "wget.download('https://video.twimg.com/ext_tw_video/1268692323690373120/pu/vid/592x1280/0BaH6MSWxSZavX2o.mp4?tag=10')"
   ]
  }
 ],
 "metadata": {
  "kernelspec": {
   "display_name": "Python 3",
   "language": "python",
   "name": "python3"
  },
  "language_info": {
   "codemirror_mode": {
    "name": "ipython",
    "version": 3
   },
   "file_extension": ".py",
   "mimetype": "text/x-python",
   "name": "python",
   "nbconvert_exporter": "python",
   "pygments_lexer": "ipython3",
   "version": "3.7.3"
  }
 },
 "nbformat": 4,
 "nbformat_minor": 4
}
