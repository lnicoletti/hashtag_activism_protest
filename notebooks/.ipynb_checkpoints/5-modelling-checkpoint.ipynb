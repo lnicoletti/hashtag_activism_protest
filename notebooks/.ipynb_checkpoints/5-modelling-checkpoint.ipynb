{
 "cells": [
  {
   "cell_type": "code",
   "execution_count": 1,
   "metadata": {},
   "outputs": [],
   "source": [
    "# generic modules\n",
    "import datetime, os\n",
    "import itertools\n",
    "import time\n",
    "import pickle\n",
    "\n",
    "# append working folder\n",
    "import sys\n",
    "# working_folder = './gdrive/My Drive/Teaching/CS4305TU Applied Machine Learning/SWMM/'\n",
    "# sys.path.append(working_folder)\n",
    "\n",
    "\n",
    "# basic data science modules\n",
    "import numpy as np\n",
    "import pandas as pd\n",
    "import matplotlib.pyplot as plt\n",
    "%matplotlib inline\n",
    "import seaborn as sns\n",
    "\n",
    "# keras\n",
    "from tensorflow.keras.layers import Input, Dense, SimpleRNN, GRU, LSTM, Flatten, Dropout, Bidirectional\n",
    "from tensorflow.keras.models import Model\n",
    "from tensorflow.keras.optimizers import SGD, Adam, RMSprop\n",
    "from tensorflow.keras.callbacks import EarlyStopping, ModelCheckpoint, ReduceLROnPlateau, LearningRateScheduler\n",
    "# import tensorflow_addons as tfa\n",
    "import tensorflow as tf\n",
    "from tensorflow.keras import backend as K\n",
    "\n",
    "# sklearn helper functions\n",
    "from sklearn.preprocessing import MinMaxScaler\n",
    "from sklearn.model_selection import train_test_split\n",
    "from sklearn.metrics import accuracy_score, precision_score, recall_score, f1_score, classification_report, confusion_matrix\n",
    "import scipy"
   ]
  },
  {
   "cell_type": "code",
   "execution_count": 56,
   "metadata": {},
   "outputs": [
    {
     "name": "stderr",
     "output_type": "stream",
     "text": [
      "C:\\Users\\Leonardo\\Anaconda3\\lib\\site-packages\\pandas\\core\\generic.py:5303: SettingWithCopyWarning: \n",
      "A value is trying to be set on a copy of a slice from a DataFrame.\n",
      "Try using .loc[row_indexer,col_indexer] = value instead\n",
      "\n",
      "See the caveats in the documentation: https://pandas.pydata.org/pandas-docs/stable/user_guide/indexing.html#returning-a-view-versus-a-copy\n",
      "  self[name] = value\n"
     ]
    }
   ],
   "source": [
    "df_p_t = pd.read_csv(\"../data/raw/processed/tweets_protests_time_lag.csv\")\n",
    "df = df_p_t[['date','tweet_count', 'protest_count']]\n",
    "df.date = pd.to_datetime(df.date)\n",
    "df.index = df.date\n",
    "df = df.drop(\"date\", axis=1)"
   ]
  },
  {
   "cell_type": "code",
   "execution_count": 7,
   "metadata": {},
   "outputs": [
    {
     "data": {
      "text/html": [
       "<div>\n",
       "<style scoped>\n",
       "    .dataframe tbody tr th:only-of-type {\n",
       "        vertical-align: middle;\n",
       "    }\n",
       "\n",
       "    .dataframe tbody tr th {\n",
       "        vertical-align: top;\n",
       "    }\n",
       "\n",
       "    .dataframe thead th {\n",
       "        text-align: right;\n",
       "    }\n",
       "</style>\n",
       "<table border=\"1\" class=\"dataframe\">\n",
       "  <thead>\n",
       "    <tr style=\"text-align: right;\">\n",
       "      <th></th>\n",
       "      <th>tweet_count</th>\n",
       "      <th>protest_count</th>\n",
       "    </tr>\n",
       "    <tr>\n",
       "      <th>date</th>\n",
       "      <th></th>\n",
       "      <th></th>\n",
       "    </tr>\n",
       "  </thead>\n",
       "  <tbody>\n",
       "    <tr>\n",
       "      <th>2020-05-26</th>\n",
       "      <td>2321</td>\n",
       "      <td>7</td>\n",
       "    </tr>\n",
       "    <tr>\n",
       "      <th>2020-05-27</th>\n",
       "      <td>7985</td>\n",
       "      <td>14</td>\n",
       "    </tr>\n",
       "    <tr>\n",
       "      <th>2020-05-28</th>\n",
       "      <td>14239</td>\n",
       "      <td>45</td>\n",
       "    </tr>\n",
       "    <tr>\n",
       "      <th>2020-05-29</th>\n",
       "      <td>20534</td>\n",
       "      <td>139</td>\n",
       "    </tr>\n",
       "    <tr>\n",
       "      <th>2020-05-30</th>\n",
       "      <td>22146</td>\n",
       "      <td>367</td>\n",
       "    </tr>\n",
       "    <tr>\n",
       "      <th>...</th>\n",
       "      <td>...</td>\n",
       "      <td>...</td>\n",
       "    </tr>\n",
       "    <tr>\n",
       "      <th>2020-11-05</th>\n",
       "      <td>1389</td>\n",
       "      <td>6</td>\n",
       "    </tr>\n",
       "    <tr>\n",
       "      <th>2020-11-06</th>\n",
       "      <td>1299</td>\n",
       "      <td>5</td>\n",
       "    </tr>\n",
       "    <tr>\n",
       "      <th>2020-11-07</th>\n",
       "      <td>1798</td>\n",
       "      <td>19</td>\n",
       "    </tr>\n",
       "    <tr>\n",
       "      <th>2020-11-08</th>\n",
       "      <td>1354</td>\n",
       "      <td>7</td>\n",
       "    </tr>\n",
       "    <tr>\n",
       "      <th>2020-11-09</th>\n",
       "      <td>863</td>\n",
       "      <td>1</td>\n",
       "    </tr>\n",
       "  </tbody>\n",
       "</table>\n",
       "<p>168 rows × 2 columns</p>\n",
       "</div>"
      ],
      "text/plain": [
       "            tweet_count  protest_count\n",
       "date                                  \n",
       "2020-05-26         2321              7\n",
       "2020-05-27         7985             14\n",
       "2020-05-28        14239             45\n",
       "2020-05-29        20534            139\n",
       "2020-05-30        22146            367\n",
       "...                 ...            ...\n",
       "2020-11-05         1389              6\n",
       "2020-11-06         1299              5\n",
       "2020-11-07         1798             19\n",
       "2020-11-08         1354              7\n",
       "2020-11-09          863              1\n",
       "\n",
       "[168 rows x 2 columns]"
      ]
     },
     "execution_count": 7,
     "metadata": {},
     "output_type": "execute_result"
    }
   ],
   "source": [
    "df"
   ]
  },
  {
   "cell_type": "code",
   "execution_count": 19,
   "metadata": {},
   "outputs": [
    {
     "data": {
      "text/plain": [
       "[Text(0.5, 0, '')]"
      ]
     },
     "execution_count": 19,
     "metadata": {},
     "output_type": "execute_result"
    },
    {
     "data": {
      "image/png": "[encoded data removed]",
      "text/plain": [
       "<Figure size 720x360 with 2 Axes>"
      ]
     },
     "metadata": {},
     "output_type": "display_data"
    }
   ],
   "source": [
    "# tweets_geo = gpd.read_file(\"tweets_gdf_fs.geojson\", driver=\"GeoJSON\")\n",
    "sns.set(style =\"whitegrid\", font_scale=1.5)\n",
    "# preprocess protest and tweet data\n",
    "# tweets_geo['created_at'] = pd.to_datetime(tweets_geo['created_at'])\n",
    "# tweets_geo['tweet_count'] = 1\n",
    "# tweets_geo['created_at_day'] = pd.to_datetime(tweets_geo['created_at'].dt.strftime('%Y-%m-%d'), format='%Y-%m-%d')\n",
    "\n",
    "# df_p['EVENT_DATE'] = pd.to_datetime(df_p['EVENT_DATE'], format='%Y-%m-%d')\n",
    "fig, ax = plt.subplots(2,1, figsize=(10,5))\n",
    "g1 = sns.lineplot(ax = ax[0], data = df_p_t, x = 'date', y = 'tweet_count', linewidth = 3)\n",
    "g2 = sns.lineplot(ax = ax[1], data = df_p_t, x = 'date', y = 'protest_count', linewidth = 3)\n",
    "\n",
    "ax[0].set_xlabel(\"\")\n",
    "ax[1].set_xlabel(\"\")\n",
    "ax[0].set_ylabel(\"Number of Tweets\", fontsize=17)\n",
    "ax[1].set_ylabel(\"Number of Protests\", fontsize=17)\n",
    "ax[0].set(xticklabels=[])\n",
    "ax[0].set(xlabel=None)\n",
    "# ax[0].set_yscale(\"log\")\n",
    "# ax[1].set_yscale(\"log\")\n",
    "\n",
    "# ax[0].set_title(\"#JusticeForGeorgeFloyd tweets per 100,000 vs. Change in voter turnout\", fontsize=14)\n",
    "# ax[1].set_title(\"#JusticeForGeorgeFloyd protests per 100,000 vs. Change in voter turnout\", fontsize=14)"
   ]
  },
  {
   "cell_type": "code",
   "execution_count": 57,
   "metadata": {},
   "outputs": [
    {
     "data": {
      "image/png": "[encoded data removed]",
      "text/plain": [
       "<Figure size 720x504 with 1 Axes>"
      ]
     },
     "metadata": {
      "needs_background": "light"
     },
     "output_type": "display_data"
    },
    {
     "name": "stdout",
     "output_type": "stream",
     "text": [
      "--------------------------------------------------------------------------------------------------------------\n",
      "Pearson Correlation = 0.859\n",
      "R^2 score = 0.738\n"
     ]
    }
   ],
   "source": [
    "fig, ax = plt.subplots(figsize=(10,7))\n",
    "\n",
    "X = np.log(df['tweet_count'][:, None])\n",
    "y = np.log(df['protest_count'][:, None])\n",
    "\n",
    "# ax.set_yscale(\"log\")\n",
    "# ax.set_xscale(\"log\")\n",
    "ax = sns.regplot(data = df, x = X, y = y, scatter_kws={\"s\": 60}, ci=False)\n",
    "# ax = sns.regplot(data = df_p_t, x = 'tweet_count', y = 'protest_count', scatter_kws={\"s\": 60}, ci=False)\n",
    "\n",
    "ax.set(xlim=(6.2, 10.8))\n",
    "# ax.set_xlim(2000,)\n",
    "\n",
    "# ax.set_xlim(auto=True)\n",
    "\n",
    "ax.lines[0].set_linestyle(\"--\")\n",
    "\n",
    "ax.set_xlabel(\"Total Number of Tweets\", fontsize=13)\n",
    "ax.set_ylabel(\"Total Number of Protests\", fontsize=13)\n",
    "ax.set_title(\"#JusticeForGeorgeFloyd Tweets vs. Protests\", fontsize=14, fontweight=\"bold\")\n",
    "\n",
    "# regression metrics\n",
    "slope, inercept, r_value, p_value, std_err = scipy.stats.linregress(X.reshape(-1), y[:, None].reshape(-1))\n",
    "\n",
    "# annotations\n",
    "style = dict(size=11)\n",
    "# ax.annotate(f\"Pearson Correlation = {r_value.round(3)}\", xy=(6.5, 6), xytext=(6.5, 6), **style)\n",
    "# ax.annotate(f\"r2 = {(r_value**2).round(3)}\", xy=(6.5, 5.7), xytext=(6.5, 5.7), **style)\n",
    "\n",
    "# legend\n",
    "ax.plot(10, 2, 'o',\n",
    "        ms=8, mec='k', color=\"k\", alpha=0.5)\n",
    "\n",
    "ax.annotate(f\" = 1 day\", xy=(10.05, 1.9), xytext=(10.05, 1.9))\n",
    "\n",
    "\n",
    "plt.show()\n",
    "\n",
    "print(\"-\"*110)\n",
    "print(f\"Pearson Correlation = {r_value.round(3)}\")\n",
    "print(f\"R^2 score = {(r_value**2).round(3)}\")"
   ]
  },
  {
   "cell_type": "markdown",
   "metadata": {},
   "source": [
    "## Correlated Time Series Analysis"
   ]
  },
  {
   "cell_type": "markdown",
   "metadata": {},
   "source": [
    "#### Check data distributions"
   ]
  },
  {
   "cell_type": "code",
   "execution_count": 58,
   "metadata": {},
   "outputs": [
    {
     "name": "stdout",
     "output_type": "stream",
     "text": [
      "Statistics = 135.797, p=0.000\n",
      "Tweet data looks non-Gaussian (reject null hypothesis)\n"
     ]
    }
   ],
   "source": [
    "from scipy import stats\n",
    "stat,p = stats.normaltest(df['tweet_count'])\n",
    "print(\"Statistics = %.3f, p=%.3f\" % (stat,p))\n",
    "alpha = 0.05\n",
    "if p> alpha:\n",
    "    print('Tweet data looks Gaussian (fail to reject null hypothesis)')\n",
    "else:\n",
    "    print('Tweet data looks non-Gaussian (reject null hypothesis)')\n",
    "# output: Statistics = 658.293, p=0.000 Data looks Gaussian (reject null hypothesis"
   ]
  },
  {
   "cell_type": "code",
   "execution_count": 59,
   "metadata": {},
   "outputs": [
    {
     "name": "stdout",
     "output_type": "stream",
     "text": [
      "Statistics = 154.165, p=0.000\n",
      "Protest data looks non-Gaussian (reject null hypothesis)\n"
     ]
    }
   ],
   "source": [
    "from scipy import stats\n",
    "stat,p = stats.normaltest(df['protest_count'])\n",
    "print(\"Statistics = %.3f, p=%.3f\" % (stat,p))\n",
    "alpha = 0.05\n",
    "if p> alpha:\n",
    "    print('Protest data looks Gaussian (fail to reject null hypothesis)')\n",
    "else:\n",
    "    print('Protest data looks non-Gaussian (reject null hypothesis)')\n",
    "# output: Statistics = 658.293, p=0.000 Data looks Gaussian (reject null hypothesis"
   ]
  },
  {
   "cell_type": "markdown",
   "metadata": {},
   "source": [
    "#### 1. Pearson Correlation"
   ]
  },
  {
   "cell_type": "code",
   "execution_count": 60,
   "metadata": {},
   "outputs": [],
   "source": [
    "from sklearn.preprocessing import MinMaxScaler\n",
    "scaler = MinMaxScaler()\n",
    "# normalized\n",
    "df['tweet_count'] = scaler.fit_transform(df[['tweet_count']])\n",
    "df['protest_count'] = scaler.fit_transform(df[['protest_count']])"
   ]
  },
  {
   "cell_type": "code",
   "execution_count": 61,
   "metadata": {},
   "outputs": [
    {
     "name": "stdout",
     "output_type": "stream",
     "text": [
      "Pandas computed Pearson r: 0.8896816623557177\n",
      "Scipy computed Pearson r: 0.8896816623557171 and p-value: 2.0957370046112533e-58\n"
     ]
    },
    {
     "data": {
      "image/png": "[encoded data removed]",
      "text/plain": [
       "<Figure size 504x216 with 1 Axes>"
      ]
     },
     "metadata": {
      "needs_background": "light"
     },
     "output_type": "display_data"
    }
   ],
   "source": [
    "import pandas as pd\n",
    "import numpy as np\n",
    "%matplotlib inline\n",
    "import matplotlib.pyplot as plt\n",
    "import seaborn as sns\n",
    "import scipy.stats as stats\n",
    "\n",
    "overall_pearson_r = df.corr().iloc[0,1]\n",
    "print(f\"Pandas computed Pearson r: {overall_pearson_r}\")\n",
    "# out: Pandas computed Pearson r: 0.2058774513561943\n",
    "\n",
    "r, p = stats.pearsonr(df.dropna()['tweet_count'], df.dropna()['protest_count'])\n",
    "print(f\"Scipy computed Pearson r: {r} and p-value: {p}\")\n",
    "# out: Scipy computed Pearson r: 0.20587745135619354 and p-value: 3.7902989479463397e-51\n",
    "\n",
    "# Compute rolling window synchrony\n",
    "f,ax=plt.subplots(figsize=(7,3))\n",
    "df.rolling(window=1,center=True).median().plot(ax=ax)\n",
    "ax.set(xlabel='Time',ylabel='Pearson r')\n",
    "ax.set(title=f\"Overall Pearson r = {np.round(overall_pearson_r,2)}\");"
   ]
  },
  {
   "cell_type": "code",
   "execution_count": 62,
   "metadata": {},
   "outputs": [
    {
     "name": "stderr",
     "output_type": "stream",
     "text": [
      "C:\\Users\\Leonardo\\Anaconda3\\lib\\site-packages\\pandas\\plotting\\_matplotlib\\tools.py:298: MatplotlibDeprecationWarning: \n",
      "The rowNum attribute was deprecated in Matplotlib 3.2 and will be removed two minor releases later. Use ax.get_subplotspec().rowspan.start instead.\n",
      "  layout[ax.rowNum, ax.colNum] = ax.get_visible()\n",
      "C:\\Users\\Leonardo\\Anaconda3\\lib\\site-packages\\pandas\\plotting\\_matplotlib\\tools.py:298: MatplotlibDeprecationWarning: \n",
      "The colNum attribute was deprecated in Matplotlib 3.2 and will be removed two minor releases later. Use ax.get_subplotspec().colspan.start instead.\n",
      "  layout[ax.rowNum, ax.colNum] = ax.get_visible()\n",
      "C:\\Users\\Leonardo\\Anaconda3\\lib\\site-packages\\pandas\\plotting\\_matplotlib\\tools.py:304: MatplotlibDeprecationWarning: \n",
      "The rowNum attribute was deprecated in Matplotlib 3.2 and will be removed two minor releases later. Use ax.get_subplotspec().rowspan.start instead.\n",
      "  if not layout[ax.rowNum + 1, ax.colNum]:\n",
      "C:\\Users\\Leonardo\\Anaconda3\\lib\\site-packages\\pandas\\plotting\\_matplotlib\\tools.py:304: MatplotlibDeprecationWarning: \n",
      "The colNum attribute was deprecated in Matplotlib 3.2 and will be removed two minor releases later. Use ax.get_subplotspec().colspan.start instead.\n",
      "  if not layout[ax.rowNum + 1, ax.colNum]:\n",
      "C:\\Users\\Leonardo\\Anaconda3\\lib\\site-packages\\pandas\\plotting\\_matplotlib\\tools.py:298: MatplotlibDeprecationWarning: \n",
      "The rowNum attribute was deprecated in Matplotlib 3.2 and will be removed two minor releases later. Use ax.get_subplotspec().rowspan.start instead.\n",
      "  layout[ax.rowNum, ax.colNum] = ax.get_visible()\n",
      "C:\\Users\\Leonardo\\Anaconda3\\lib\\site-packages\\pandas\\plotting\\_matplotlib\\tools.py:298: MatplotlibDeprecationWarning: \n",
      "The colNum attribute was deprecated in Matplotlib 3.2 and will be removed two minor releases later. Use ax.get_subplotspec().colspan.start instead.\n",
      "  layout[ax.rowNum, ax.colNum] = ax.get_visible()\n",
      "C:\\Users\\Leonardo\\Anaconda3\\lib\\site-packages\\pandas\\plotting\\_matplotlib\\tools.py:304: MatplotlibDeprecationWarning: \n",
      "The rowNum attribute was deprecated in Matplotlib 3.2 and will be removed two minor releases later. Use ax.get_subplotspec().rowspan.start instead.\n",
      "  if not layout[ax.rowNum + 1, ax.colNum]:\n",
      "C:\\Users\\Leonardo\\Anaconda3\\lib\\site-packages\\pandas\\plotting\\_matplotlib\\tools.py:304: MatplotlibDeprecationWarning: \n",
      "The colNum attribute was deprecated in Matplotlib 3.2 and will be removed two minor releases later. Use ax.get_subplotspec().colspan.start instead.\n",
      "  if not layout[ax.rowNum + 1, ax.colNum]:\n"
     ]
    },
    {
     "data": {
      "text/plain": [
       "Text(0.5, 0.98, 'Smiling data and rolling window correlation')"
      ]
     },
     "execution_count": 62,
     "metadata": {},
     "output_type": "execute_result"
    },
    {
     "data": {
      "image/png": "[encoded data removed]",
      "text/plain": [
       "<Figure size 1008x432 with 2 Axes>"
      ]
     },
     "metadata": {
      "needs_background": "light"
     },
     "output_type": "display_data"
    }
   ],
   "source": [
    "# Set window size to compute moving window synchrony.\n",
    "r_window_size = 2\n",
    "# Interpolate missing data.\n",
    "df_interpolated = df.interpolate()\n",
    "# Compute rolling window synchrony\n",
    "rolling_r = df_interpolated['tweet_count'].rolling(window=r_window_size, center=True).corr(df_interpolated['protest_count'])\n",
    "f,ax=plt.subplots(2,1,figsize=(14,6),sharex=True)\n",
    "df.rolling(window=1,center=True).median().plot(ax=ax[0])\n",
    "ax[0].set(xlabel='Time',ylabel='Tweets/protests')\n",
    "rolling_r.plot(ax=ax[1])\n",
    "ax[1].set(xlabel='Time',ylabel='Pearson r')\n",
    "plt.suptitle(\"Smiling data and rolling window correlation\")"
   ]
  },
  {
   "cell_type": "markdown",
   "metadata": {},
   "source": [
    "#### 2. Time Lagged Cross Correlation"
   ]
  },
  {
   "cell_type": "code",
   "execution_count": 63,
   "metadata": {},
   "outputs": [
    {
     "data": {
      "text/plain": [
       "<matplotlib.legend.Legend at 0x132ec072a58>"
      ]
     },
     "execution_count": 63,
     "metadata": {},
     "output_type": "execute_result"
    },
    {
     "data": {
      "image/png": "[encoded data removed]",
      "text/plain": [
       "<Figure size 1008x216 with 1 Axes>"
      ]
     },
     "metadata": {
      "needs_background": "light"
     },
     "output_type": "display_data"
    }
   ],
   "source": [
    "def crosscorr(datax, datay, lag=0, wrap=False):\n",
    "    \"\"\" Lag-N cross correlation. \n",
    "    Shifted data filled with NaNs \n",
    "    \n",
    "    Parameters\n",
    "    ----------\n",
    "    lag : int, default 0\n",
    "    datax, datay : pandas.Series objects of equal length\n",
    "    Returns\n",
    "    ----------\n",
    "    crosscorr : float\n",
    "    \"\"\"\n",
    "    if wrap:\n",
    "        shiftedy = datay.shift(lag)\n",
    "        shiftedy.iloc[:lag] = datay.iloc[-lag:].values\n",
    "        return datax.corr(shiftedy)\n",
    "    else: \n",
    "        return datax.corr(datay.shift(lag))\n",
    "\n",
    "d1 = df['tweet_count']\n",
    "d2 = df['protest_count']\n",
    "days = 10\n",
    "rs = [crosscorr(d1,d2, lag) for lag in range(-int(days),int(days+1))]\n",
    "offset = np.floor(len(rs)/2)-np.argmax(rs)\n",
    "f,ax=plt.subplots(figsize=(14,3))\n",
    "ax.plot(rs)\n",
    "ax.axvline(np.ceil((len(rs)-1)/2), color='k',linestyle='--',label='Center')\n",
    "ax.axvline(np.argmax(rs),color='r',linestyle='--',label='Peak synchrony')\n",
    "ax.set(title=f'Optimal offset = {offset} days\\nTweets lead <-------|------> Protests lead',ylim=[0.4,1], xlabel='Offset',ylabel='Pearson r')\n",
    "ax.set_xticks([0, 2, 4, 6, 8, 10, 12, 14, 16, 18, 20])\n",
    "ax.set_xticklabels([-10, -8, -6, -4, -2, 0, 2, 4, 6, 8, 10,]);\n",
    "plt.legend()"
   ]
  },
  {
   "cell_type": "code",
   "execution_count": 47,
   "metadata": {},
   "outputs": [
    {
     "data": {
      "text/plain": [
       "date\n",
       "2020-05-26     14.0\n",
       "2020-05-27     45.0\n",
       "2020-05-28    139.0\n",
       "2020-05-29    367.0\n",
       "2020-05-30    464.0\n",
       "              ...  \n",
       "2020-11-05      5.0\n",
       "2020-11-06     19.0\n",
       "2020-11-07      7.0\n",
       "2020-11-08      1.0\n",
       "2020-11-09      NaN\n",
       "Name: protest_count, Length: 168, dtype: float64"
      ]
     },
     "execution_count": 47,
     "metadata": {},
     "output_type": "execute_result"
    }
   ],
   "source": [
    "df['protest_count'].shift(-1)"
   ]
  },
  {
   "cell_type": "code",
   "execution_count": 44,
   "metadata": {},
   "outputs": [
    {
     "data": {
      "text/plain": [
       "0.8991543646050544"
      ]
     },
     "execution_count": 44,
     "metadata": {},
     "output_type": "execute_result"
    }
   ],
   "source": [
    "df['tweet_count'].corr(df['protest_count'].shift(-1))"
   ]
  },
  {
   "cell_type": "code",
   "execution_count": 76,
   "metadata": {},
   "outputs": [
    {
     "data": {
      "text/plain": [
       "date\n",
       "2020-05-26    0.045669\n",
       "2020-05-27    0.199820\n",
       "2020-05-28    0.370030\n",
       "2020-05-29    0.541355\n",
       "2020-05-30    0.585227\n",
       "                ...   \n",
       "2020-11-05    0.020303\n",
       "2020-11-06    0.017854\n",
       "2020-11-07    0.031435\n",
       "2020-11-08    0.019351\n",
       "2020-11-09    0.005988\n",
       "Name: tweet_count, Length: 168, dtype: float64"
      ]
     },
     "execution_count": 76,
     "metadata": {},
     "output_type": "execute_result"
    }
   ],
   "source": [
    "df['tweet_count']"
   ]
  },
  {
   "cell_type": "code",
   "execution_count": 64,
   "metadata": {},
   "outputs": [
    {
     "data": {
      "image/png": "[encoded data removed]",
      "text/plain": [
       "<Figure size 720x360 with 2 Axes>"
      ]
     },
     "metadata": {
      "needs_background": "light"
     },
     "output_type": "display_data"
    }
   ],
   "source": [
    "# Windowed time lagged cross correlation\n",
    "days = 10\n",
    "no_splits = 10\n",
    "samples_per_split = df.shape[0]/no_splits\n",
    "rss=[]\n",
    "for t in range(0, no_splits):\n",
    "    d1 = df['tweet_count'][int((t)*samples_per_split):int((t+1)*samples_per_split)]\n",
    "    d2 = df['protest_count'][int((t)*samples_per_split):int((t+1)*samples_per_split)]\n",
    "    rs = [crosscorr(d1,d2, lag) for lag in range(-int(days),int(days+1))]\n",
    "    rss.append(rs)\n",
    "rss = pd.DataFrame(rss)\n",
    "f,ax = plt.subplots(figsize=(10,5))\n",
    "sns.heatmap(rss,cmap='RdBu_r',ax=ax)\n",
    "ax.set(title=f'Windowed Time Lagged Cross Correlation', xlabel='Offset',ylabel='Window epochs')\n",
    "ax.set_xticks([0, 2, 4, 6, 8, 10, 12, 14, 16, 18, 20])\n",
    "ax.set_xticklabels([-10, -8, -6, -4, -2, 0, 2, 4, 6, 8, 10,]);\n",
    "\n",
    "# # Rolling window time lagged cross correlation\n",
    "# days = 10\n",
    "# window_size = 10 #samples\n",
    "# t_start = 0\n",
    "# t_end = t_start + window_size\n",
    "# step_size = 30\n",
    "# rss=[]\n",
    "# while t_end < 5400:\n",
    "#     d1 = df['S1_Joy'].iloc[t_start:t_end]\n",
    "#     d2 = df['S2_Joy'].iloc[t_start:t_end]\n",
    "#     rs = [crosscorr(d1,d2, lag, wrap=False) for lag in range(-int(days),int(days+1))]\n",
    "#     rss.append(rs)\n",
    "#     t_start = t_start + step_size\n",
    "#     t_end = t_end + step_size\n",
    "# rss = pd.DataFrame(rss)\n",
    "\n",
    "# f,ax = plt.subplots(figsize=(10,10))\n",
    "# sns.heatmap(rss,cmap='RdBu_r',ax=ax)\n",
    "# ax.set(title=f'Rolling Windowed Time Lagged Cross Correlation',xlim=[0,301], xlabel='Offset',ylabel='Epochs')\n",
    "# ax.set_xticks([0, 50, 100, 151, 201, 251, 301])\n",
    "# ax.set_xticklabels([-150, -100, -50, 0, 50, 100, 150]);"
   ]
  },
  {
   "cell_type": "markdown",
   "metadata": {},
   "source": [
    "#### 3. Dynamic Time Warping — synchrony of signals varying in lengths"
   ]
  },
  {
   "cell_type": "code",
   "execution_count": 65,
   "metadata": {},
   "outputs": [
    {
     "data": {
      "image/png": "[encoded data removed]",
      "text/plain": [
       "<Figure size 432x288 with 1 Axes>"
      ]
     },
     "metadata": {
      "needs_background": "light"
     },
     "output_type": "display_data"
    }
   ],
   "source": [
    "from dtw import dtw,accelerated_dtw\n",
    "\n",
    "d1 = df['tweet_count'].interpolate().values\n",
    "d2 = df['protest_count'].interpolate().values\n",
    "d, cost_matrix, acc_cost_matrix, path = accelerated_dtw(d1,d2, dist='euclidean')\n",
    "\n",
    "plt.imshow(acc_cost_matrix.T, origin='lower', cmap='gray', interpolation='nearest')\n",
    "plt.plot(path[0], path[1], 'w')\n",
    "plt.xlabel('tweets')\n",
    "plt.ylabel('protests')\n",
    "plt.title(f'DTW Minimum Path with minimum distance: {np.round(d,2)}')\n",
    "plt.show()"
   ]
  },
  {
   "cell_type": "markdown",
   "metadata": {},
   "source": [
    "### Vector Auto Regressive Model and Granger Causality Analysis"
   ]
  },
  {
   "cell_type": "code",
   "execution_count": 67,
   "metadata": {},
   "outputs": [
    {
     "name": "stdout",
     "output_type": "stream",
     "text": [
      "(128, 2) (40, 2)\n"
     ]
    }
   ],
   "source": [
    "n_obs=40\n",
    "X_train, X_test = df[0:-n_obs], df[-n_obs:]\n",
    "print(X_train.shape, X_test.shape)"
   ]
  },
  {
   "cell_type": "markdown",
   "metadata": {},
   "source": [
    "Granger’s causality Tests the null hypothesis that the coefficients of past values in the regression equation is zero. In simpler terms, the past values of time series (x) do not cause the other series (y). So, if the p-value obtained from the test is lesser than the significance level of 0.05, then, you can safely reject the null hypothesis. This has been performed on original data-set."
   ]
  },
  {
   "cell_type": "code",
   "execution_count": 69,
   "metadata": {},
   "outputs": [
    {
     "data": {
      "text/html": [
       "<div>\n",
       "<style scoped>\n",
       "    .dataframe tbody tr th:only-of-type {\n",
       "        vertical-align: middle;\n",
       "    }\n",
       "\n",
       "    .dataframe tbody tr th {\n",
       "        vertical-align: top;\n",
       "    }\n",
       "\n",
       "    .dataframe thead th {\n",
       "        text-align: right;\n",
       "    }\n",
       "</style>\n",
       "<table border=\"1\" class=\"dataframe\">\n",
       "  <thead>\n",
       "    <tr style=\"text-align: right;\">\n",
       "      <th></th>\n",
       "      <th>tweet_count_x</th>\n",
       "      <th>protest_count_x</th>\n",
       "    </tr>\n",
       "  </thead>\n",
       "  <tbody>\n",
       "    <tr>\n",
       "      <th>tweet_count_y</th>\n",
       "      <td>1.0</td>\n",
       "      <td>0.8728</td>\n",
       "    </tr>\n",
       "    <tr>\n",
       "      <th>protest_count_y</th>\n",
       "      <td>0.0</td>\n",
       "      <td>1.0000</td>\n",
       "    </tr>\n",
       "  </tbody>\n",
       "</table>\n",
       "</div>"
      ],
      "text/plain": [
       "                 tweet_count_x  protest_count_x\n",
       "tweet_count_y              1.0           0.8728\n",
       "protest_count_y            0.0           1.0000"
      ]
     },
     "execution_count": 69,
     "metadata": {},
     "output_type": "execute_result"
    }
   ],
   "source": [
    "from statsmodels.tsa.stattools import grangercausalitytests\n",
    "maxlag=1\n",
    "\n",
    "test = 'ssr-chi2test'\n",
    "\n",
    "def grangers_causality_matrix(data, variables, test = 'ssr_chi2test', verbose=False):\n",
    "\n",
    "    dataset = pd.DataFrame(np.zeros((len(variables), len(variables))), columns=variables, index=variables)\n",
    "\n",
    "    for c in dataset.columns:\n",
    "        for r in dataset.index:\n",
    "            test_result = grangercausalitytests(data[[r,c]], maxlag=maxlag, verbose=False)\n",
    "            p_values = [round(test_result[i+1][0][test][1],4) for i in range(maxlag)]\n",
    "            if verbose: print(f'Y = {r}, X = {c}, P Values = {p_values}')\n",
    "\n",
    "            min_p_value = np.min(p_values)\n",
    "            dataset.loc[r,c] = min_p_value\n",
    "\n",
    "    dataset.columns = [var + '_x' for var in variables]\n",
    "\n",
    "    dataset.index = [var + '_y' for var in variables]\n",
    "\n",
    "    return dataset\n",
    "\n",
    "grangers_causality_matrix(df, variables = df.columns)  "
   ]
  },
  {
   "cell_type": "code",
   "execution_count": 115,
   "metadata": {},
   "outputs": [
    {
     "name": "stdout",
     "output_type": "stream",
     "text": [
      "Name   ::  Test Stat > C(95%)    =>   Signif  \n",
      " ----------------------------------------\n",
      "tweet_count ::  62.99     > 12.3212   =>   True\n",
      "protest_count ::  25.31     > 4.1296    =>   True\n"
     ]
    }
   ],
   "source": [
    "from statsmodels.tsa.vector_ar.vecm import coint_johansen\n",
    "from statsmodels.tsa.stattools import adfuller\n",
    "\n",
    "def cointegration_test(df, alpha=0.05): \n",
    "    \"\"\"Perform Johanson's Cointegration Test and Report Summary\"\"\"\n",
    "    out = coint_johansen(df,-1,5)\n",
    "    d = {'0.90':0, '0.95':1, '0.99':2}\n",
    "    traces = out.lr1\n",
    "    cvts = out.cvt[:, d[str(1-alpha)]]\n",
    "    def adjust(val, length= 6): return str(val).ljust(length)\n",
    "\n",
    "    # Summary\n",
    "    print('Name   ::  Test Stat > C(95%)    =>   Signif  \\n', '--'*20)\n",
    "    for col, trace, cvt in zip(df.columns, traces, cvts):\n",
    "        print(adjust(col), ':: ', adjust(round(trace,2), 9), \">\", adjust(cvt, 8), ' =>  ' , trace > cvt)\n",
    "\n",
    "cointegration_test(df)"
   ]
  },
  {
   "cell_type": "code",
   "execution_count": 111,
   "metadata": {},
   "outputs": [
    {
     "name": "stdout",
     "output_type": "stream",
     "text": [
      "(153, 2)\n",
      "(15, 2)\n"
     ]
    }
   ],
   "source": [
    "nobs = 15\n",
    "df_train, df_test = df[0:-nobs], df[-nobs:]\n",
    "\n",
    "# Check size\n",
    "print(df_train.shape)  # (119, 8)\n",
    "print(df_test.shape)  # (4, 8)"
   ]
  },
  {
   "cell_type": "code",
   "execution_count": 118,
   "metadata": {},
   "outputs": [],
   "source": [
    "def adfuller_test(series, signif=0.05, name='', verbose=False):\n",
    "    \"\"\"Perform ADFuller to test for Stationarity of given series and print report\"\"\"\n",
    "    r = adfuller(series, autolag='AIC')\n",
    "    output = {'test_statistic':round(r[0], 4), 'pvalue':round(r[1], 4), 'n_lags':round(r[2], 4), 'n_obs':r[3]}\n",
    "    p_value = output['pvalue'] \n",
    "    \n",
    "    def adjust(val, length= 6): return str(val).ljust(length)\n",
    "\n",
    "    # Print Summary\n",
    "    print(f'    Augmented Dickey-Fuller Test on \"{name}\"', \"\\n   \", '-'*47)\n",
    "    print(f' Null Hypothesis: Data has unit root. Non-Stationary.')\n",
    "    print(f' Significance Level    = {signif}')\n",
    "    print(f' Test Statistic        = {output[\"test_statistic\"]}')\n",
    "    print(f' No. Lags Chosen       = {output[\"n_lags\"]}')\n",
    "\n",
    "    for key,val in r[4].items():\n",
    "        print(f' Critical value {adjust(key)} = {round(val, 3)}')\n",
    "\n",
    "    if p_value <= signif:\n",
    "        print(f\" => P-Value = {p_value}. Rejecting Null Hypothesis.\")\n",
    "        print(f\" => Series is Stationary.\")\n",
    "    else:\n",
    "        print(f\" => P-Value = {p_value}. Weak evidence to reject the Null Hypothesis.\")\n",
    "        print(f\" => Series is Non-Stationary.\")    "
   ]
  },
  {
   "cell_type": "code",
   "execution_count": 119,
   "metadata": {},
   "outputs": [
    {
     "name": "stdout",
     "output_type": "stream",
     "text": [
      "    Augmented Dickey-Fuller Test on \"tweet_count\" \n",
      "    -----------------------------------------------\n",
      " Null Hypothesis: Data has unit root. Non-Stationary.\n",
      " Significance Level    = 0.05\n",
      " Test Statistic        = -2.9334\n",
      " No. Lags Chosen       = 2\n",
      " Critical value 1%     = -3.475\n",
      " Critical value 5%     = -2.881\n",
      " Critical value 10%    = -2.577\n",
      " => P-Value = 0.0416. Rejecting Null Hypothesis.\n",
      " => Series is Stationary.\n",
      "\n",
      "\n",
      "    Augmented Dickey-Fuller Test on \"protest_count\" \n",
      "    -----------------------------------------------\n",
      " Null Hypothesis: Data has unit root. Non-Stationary.\n",
      " Significance Level    = 0.05\n",
      " Test Statistic        = -13.3784\n",
      " No. Lags Chosen       = 12\n",
      " Critical value 1%     = -3.478\n",
      " Critical value 5%     = -2.882\n",
      " Critical value 10%    = -2.578\n",
      " => P-Value = 0.0. Rejecting Null Hypothesis.\n",
      " => Series is Stationary.\n",
      "\n",
      "\n"
     ]
    }
   ],
   "source": [
    "# ADF Test on each column\n",
    "for name, column in df_train.iteritems():\n",
    "    adfuller_test(column, name=column.name)\n",
    "    print('\\n')"
   ]
  },
  {
   "cell_type": "code",
   "execution_count": 120,
   "metadata": {},
   "outputs": [],
   "source": [
    "# Import Statsmodels\n",
    "from statsmodels.tsa.api import VAR\n",
    "from statsmodels.tsa.stattools import adfuller\n",
    "from statsmodels.tools.eval_measures import rmse, aic"
   ]
  },
  {
   "cell_type": "code",
   "execution_count": 121,
   "metadata": {},
   "outputs": [
    {
     "name": "stdout",
     "output_type": "stream",
     "text": [
      "Lag Order = 1\n",
      "AIC :  -11.616429391197299\n",
      "BIC :  -11.50440566140987\n",
      "FPE :  9.016794534452297e-06\n",
      "HQIC:  -11.570961425059412 \n",
      "\n",
      "Lag Order = 2\n",
      "AIC :  -11.870073342673654\n",
      "BIC :  -11.682604198796755\n",
      "FPE :  6.996945317625991e-06\n",
      "HQIC:  -11.793978363366035 \n",
      "\n",
      "Lag Order = 3\n",
      "AIC :  -12.08332019332248\n",
      "BIC :  -11.819785425840006\n",
      "FPE :  5.653598711676373e-06\n",
      "HQIC:  -11.976342266545878 \n",
      "\n",
      "Lag Order = 4\n",
      "AIC :  -12.632448922462304\n",
      "BIC :  -12.292219680384038\n",
      "FPE :  3.265073896956618e-06\n",
      "HQIC:  -12.49432869956276 \n",
      "\n",
      "Lag Order = 5\n",
      "AIC :  -12.763904574440872\n",
      "BIC :  -12.346343197644867\n",
      "FPE :  2.8634205020433643e-06\n",
      "HQIC:  -12.594379231821941 \n",
      "\n",
      "Lag Order = 6\n",
      "AIC :  -13.076724037411564\n",
      "BIC :  -12.581183884843403\n",
      "FPE :  2.0948421452121146e-06\n",
      "HQIC:  -12.875527214660911 \n",
      "\n",
      "Lag Order = 7\n",
      "AIC :  -13.310534635328885\n",
      "BIC :  -12.736359908934265\n",
      "FPE :  1.6587426271667715e-06\n",
      "HQIC:  -13.077396372030023 \n",
      "\n",
      "Lag Order = 8\n",
      "AIC :  -13.975335533271256\n",
      "BIC :  -13.321861097534068\n",
      "FPE :  8.536664197620434e-07\n",
      "HQIC:  -13.709982204470638 \n",
      "\n",
      "Lag Order = 9\n",
      "AIC :  -14.07107218654787\n",
      "BIC :  -13.337623383501526\n",
      "FPE :  7.762607520162732e-07\n",
      "HQIC:  -13.773226436846967 \n",
      "\n"
     ]
    },
    {
     "name": "stderr",
     "output_type": "stream",
     "text": [
      "C:\\Users\\Leonardo\\Anaconda3\\lib\\site-packages\\statsmodels\\tsa\\base\\tsa_model.py:527: ValueWarning: No frequency information was provided, so inferred frequency D will be used.\n",
      "  % freq, ValueWarning)\n"
     ]
    }
   ],
   "source": [
    "model = VAR(df)\n",
    "for i in [1,2,3,4,5,6,7,8,9]:\n",
    "    result = model.fit(i)\n",
    "    print('Lag Order =', i)\n",
    "    print('AIC : ', result.aic)\n",
    "    print('BIC : ', result.bic)\n",
    "    print('FPE : ', result.fpe)\n",
    "    print('HQIC: ', result.hqic, '\\n')"
   ]
  },
  {
   "cell_type": "code",
   "execution_count": 122,
   "metadata": {},
   "outputs": [
    {
     "data": {
      "text/html": [
       "<table class=\"simpletable\">\n",
       "<caption>VAR Order Selection (* highlights the minimums)</caption>\n",
       "<tr>\n",
       "   <td></td>      <th>AIC</th>         <th>BIC</th>         <th>FPE</th>        <th>HQIC</th>    \n",
       "</tr>\n",
       "<tr>\n",
       "  <th>0</th>  <td>    -11.47</td>  <td>    -11.43</td>  <td> 1.042e-05</td>  <td>    -11.46</td> \n",
       "</tr>\n",
       "<tr>\n",
       "  <th>1</th>  <td>    -14.13</td>  <td>    -14.02</td>  <td> 7.270e-07</td>  <td>    -14.09</td> \n",
       "</tr>\n",
       "<tr>\n",
       "  <th>2</th>  <td>    -14.47</td>  <td>    -14.27</td>  <td> 5.202e-07</td>  <td>    -14.39</td> \n",
       "</tr>\n",
       "<tr>\n",
       "  <th>3</th>  <td>    -14.49</td>  <td>    -14.21</td>  <td> 5.104e-07</td>  <td>    -14.38</td> \n",
       "</tr>\n",
       "<tr>\n",
       "  <th>4</th>  <td>    -14.67</td>  <td>    -14.32</td>  <td> 4.258e-07</td>  <td>    -14.53</td> \n",
       "</tr>\n",
       "<tr>\n",
       "  <th>5</th>  <td>    -14.72</td>  <td>    -14.29</td>  <td> 4.044e-07</td>  <td>    -14.55</td> \n",
       "</tr>\n",
       "<tr>\n",
       "  <th>6</th>  <td>    -14.91</td>  <td>    -14.40</td>  <td> 3.362e-07</td>  <td>    -14.70</td> \n",
       "</tr>\n",
       "<tr>\n",
       "  <th>7</th>  <td>    -15.26</td>  <td>    -14.67*</td> <td> 2.364e-07*</td> <td>    -15.02*</td>\n",
       "</tr>\n",
       "<tr>\n",
       "  <th>8</th>  <td>    -15.25</td>  <td>    -14.59</td>  <td> 2.383e-07</td>  <td>    -14.98</td> \n",
       "</tr>\n",
       "<tr>\n",
       "  <th>9</th>  <td>    -15.21</td>  <td>    -14.47</td>  <td> 2.488e-07</td>  <td>    -14.91</td> \n",
       "</tr>\n",
       "<tr>\n",
       "  <th>10</th> <td>    -15.20</td>  <td>    -14.38</td>  <td> 2.517e-07</td>  <td>    -14.86</td> \n",
       "</tr>\n",
       "<tr>\n",
       "  <th>11</th> <td>    -15.24</td>  <td>    -14.34</td>  <td> 2.423e-07</td>  <td>    -14.87</td> \n",
       "</tr>\n",
       "<tr>\n",
       "  <th>12</th> <td>    -15.26*</td> <td>    -14.28</td>  <td> 2.372e-07</td>  <td>    -14.86</td> \n",
       "</tr>\n",
       "</table>"
      ],
      "text/plain": [
       "<class 'statsmodels.iolib.table.SimpleTable'>"
      ]
     },
     "execution_count": 122,
     "metadata": {},
     "output_type": "execute_result"
    }
   ],
   "source": [
    "x = model.select_order(maxlags=12)\n",
    "x.summary()"
   ]
  },
  {
   "cell_type": "code",
   "execution_count": 140,
   "metadata": {},
   "outputs": [
    {
     "data": {
      "text/plain": [
       "  Summary of Regression Results   \n",
       "==================================\n",
       "Model:                         VAR\n",
       "Method:                        OLS\n",
       "Date:           Wed, 05, May, 2021\n",
       "Time:                     03:11:15\n",
       "--------------------------------------------------------------------\n",
       "No. of Equations:         2.00000    BIC:                   -11.5044\n",
       "Nobs:                     167.000    HQIC:                  -11.5710\n",
       "Log likelihood:           502.046    FPE:                9.01679e-06\n",
       "AIC:                     -11.6164    Det(Omega_mle):     8.70136e-06\n",
       "--------------------------------------------------------------------\n",
       "Results for equation tweet_count\n",
       "===================================================================================\n",
       "                      coefficient       std. error           t-stat            prob\n",
       "-----------------------------------------------------------------------------------\n",
       "const                    0.004075         0.004468            0.912           0.362\n",
       "L1.tweet_count           0.963001         0.050595           19.034           0.000\n",
       "L1.protest_count        -0.008617         0.054319           -0.159           0.874\n",
       "===================================================================================\n",
       "\n",
       "Results for equation protest_count\n",
       "===================================================================================\n",
       "                      coefficient       std. error           t-stat            prob\n",
       "-----------------------------------------------------------------------------------\n",
       "const                   -0.007963         0.005719           -1.392           0.164\n",
       "L1.tweet_count           0.544913         0.064770            8.413           0.000\n",
       "L1.protest_count         0.353312         0.069537            5.081           0.000\n",
       "===================================================================================\n",
       "\n",
       "Correlation matrix of residuals\n",
       "                 tweet_count  protest_count\n",
       "tweet_count         1.000000       0.260085\n",
       "protest_count       0.260085       1.000000\n",
       "\n"
      ]
     },
     "execution_count": 140,
     "metadata": {},
     "output_type": "execute_result"
    }
   ],
   "source": [
    "model_fitted = model.fit(1)\n",
    "model_fitted.summary()"
   ]
  },
  {
   "cell_type": "code",
   "execution_count": 141,
   "metadata": {},
   "outputs": [
    {
     "name": "stdout",
     "output_type": "stream",
     "text": [
      "tweet_count : 1.61\n",
      "protest_count : 1.64\n"
     ]
    }
   ],
   "source": [
    "from statsmodels.stats.stattools import durbin_watson\n",
    "out = durbin_watson(model_fitted.resid)\n",
    "\n",
    "for col, val in zip(df.columns, out):\n",
    "    print(col, ':', round(val, 2))"
   ]
  },
  {
   "cell_type": "code",
   "execution_count": 142,
   "metadata": {},
   "outputs": [
    {
     "name": "stdout",
     "output_type": "stream",
     "text": [
      "1\n"
     ]
    },
    {
     "data": {
      "text/plain": [
       "array([[0.00598754, 0.        ]])"
      ]
     },
     "execution_count": 142,
     "metadata": {},
     "output_type": "execute_result"
    }
   ],
   "source": [
    "# Get the lag order\n",
    "lag_order = model_fitted.k_ar\n",
    "print(lag_order)  #> 4\n",
    "\n",
    "# Input data for forecasting\n",
    "forecast_input = df.values[-lag_order:]\n",
    "forecast_input"
   ]
  },
  {
   "cell_type": "code",
   "execution_count": 143,
   "metadata": {},
   "outputs": [
    {
     "data": {
      "text/html": [
       "<div>\n",
       "<style scoped>\n",
       "    .dataframe tbody tr th:only-of-type {\n",
       "        vertical-align: middle;\n",
       "    }\n",
       "\n",
       "    .dataframe tbody tr th {\n",
       "        vertical-align: top;\n",
       "    }\n",
       "\n",
       "    .dataframe thead th {\n",
       "        text-align: right;\n",
       "    }\n",
       "</style>\n",
       "<table border=\"1\" class=\"dataframe\">\n",
       "  <thead>\n",
       "    <tr style=\"text-align: right;\">\n",
       "      <th></th>\n",
       "      <th>tweet_count_2d</th>\n",
       "      <th>protest_count_2d</th>\n",
       "    </tr>\n",
       "    <tr>\n",
       "      <th>date</th>\n",
       "      <th></th>\n",
       "      <th></th>\n",
       "    </tr>\n",
       "  </thead>\n",
       "  <tbody>\n",
       "    <tr>\n",
       "      <th>2020-10-26</th>\n",
       "      <td>0.009841</td>\n",
       "      <td>-0.004700</td>\n",
       "    </tr>\n",
       "    <tr>\n",
       "      <th>2020-10-27</th>\n",
       "      <td>0.013592</td>\n",
       "      <td>-0.004261</td>\n",
       "    </tr>\n",
       "    <tr>\n",
       "      <th>2020-10-28</th>\n",
       "      <td>0.017201</td>\n",
       "      <td>-0.002061</td>\n",
       "    </tr>\n",
       "    <tr>\n",
       "      <th>2020-10-29</th>\n",
       "      <td>0.020658</td>\n",
       "      <td>0.000682</td>\n",
       "    </tr>\n",
       "    <tr>\n",
       "      <th>2020-10-30</th>\n",
       "      <td>0.023962</td>\n",
       "      <td>0.003535</td>\n",
       "    </tr>\n",
       "    <tr>\n",
       "      <th>2020-10-31</th>\n",
       "      <td>0.027120</td>\n",
       "      <td>0.006344</td>\n",
       "    </tr>\n",
       "    <tr>\n",
       "      <th>2020-11-01</th>\n",
       "      <td>0.030137</td>\n",
       "      <td>0.009057</td>\n",
       "    </tr>\n",
       "    <tr>\n",
       "      <th>2020-11-02</th>\n",
       "      <td>0.033019</td>\n",
       "      <td>0.011660</td>\n",
       "    </tr>\n",
       "    <tr>\n",
       "      <th>2020-11-03</th>\n",
       "      <td>0.035772</td>\n",
       "      <td>0.014150</td>\n",
       "    </tr>\n",
       "    <tr>\n",
       "      <th>2020-11-04</th>\n",
       "      <td>0.038402</td>\n",
       "      <td>0.016529</td>\n",
       "    </tr>\n",
       "    <tr>\n",
       "      <th>2020-11-05</th>\n",
       "      <td>0.040913</td>\n",
       "      <td>0.018803</td>\n",
       "    </tr>\n",
       "    <tr>\n",
       "      <th>2020-11-06</th>\n",
       "      <td>0.043313</td>\n",
       "      <td>0.020975</td>\n",
       "    </tr>\n",
       "    <tr>\n",
       "      <th>2020-11-07</th>\n",
       "      <td>0.045604</td>\n",
       "      <td>0.023050</td>\n",
       "    </tr>\n",
       "    <tr>\n",
       "      <th>2020-11-08</th>\n",
       "      <td>0.047793</td>\n",
       "      <td>0.025032</td>\n",
       "    </tr>\n",
       "    <tr>\n",
       "      <th>2020-11-09</th>\n",
       "      <td>0.049884</td>\n",
       "      <td>0.026925</td>\n",
       "    </tr>\n",
       "  </tbody>\n",
       "</table>\n",
       "</div>"
      ],
      "text/plain": [
       "            tweet_count_2d  protest_count_2d\n",
       "date                                        \n",
       "2020-10-26        0.009841         -0.004700\n",
       "2020-10-27        0.013592         -0.004261\n",
       "2020-10-28        0.017201         -0.002061\n",
       "2020-10-29        0.020658          0.000682\n",
       "2020-10-30        0.023962          0.003535\n",
       "2020-10-31        0.027120          0.006344\n",
       "2020-11-01        0.030137          0.009057\n",
       "2020-11-02        0.033019          0.011660\n",
       "2020-11-03        0.035772          0.014150\n",
       "2020-11-04        0.038402          0.016529\n",
       "2020-11-05        0.040913          0.018803\n",
       "2020-11-06        0.043313          0.020975\n",
       "2020-11-07        0.045604          0.023050\n",
       "2020-11-08        0.047793          0.025032\n",
       "2020-11-09        0.049884          0.026925"
      ]
     },
     "execution_count": 143,
     "metadata": {},
     "output_type": "execute_result"
    }
   ],
   "source": [
    "fc = model_fitted.forecast(y=forecast_input, steps=nobs)\n",
    "df_forecast = pd.DataFrame(fc, index=df.index[-nobs:], columns=df.columns + '_2d')\n",
    "df_forecast"
   ]
  },
  {
   "cell_type": "code",
   "execution_count": 144,
   "metadata": {},
   "outputs": [],
   "source": [
    "def invert_transformation(df_train, df_forecast, second_diff=False):\n",
    "    \"\"\"Revert back the differencing to get the forecast to original scale.\"\"\"\n",
    "    df_fc = df_forecast.copy()\n",
    "    columns = df_train.columns\n",
    "    for col in columns:        \n",
    "        # Roll back 2nd Diff\n",
    "        if second_diff:\n",
    "            df_fc[str(col)+'_1d'] = (df_train[col].iloc[-1]-df_train[col].iloc[-2]) + df_fc[str(col)+'_2d'].cumsum()\n",
    "        # Roll back 1st Diff\n",
    "        df_fc[str(col)+'_forecast'] = df_train[col].iloc[-1] + df_fc[str(col)+'_1d'].cumsum()\n",
    "    return df_fc"
   ]
  },
  {
   "cell_type": "code",
   "execution_count": 145,
   "metadata": {},
   "outputs": [
    {
     "data": {
      "text/html": [
       "<div>\n",
       "<style scoped>\n",
       "    .dataframe tbody tr th:only-of-type {\n",
       "        vertical-align: middle;\n",
       "    }\n",
       "\n",
       "    .dataframe tbody tr th {\n",
       "        vertical-align: top;\n",
       "    }\n",
       "\n",
       "    .dataframe thead th {\n",
       "        text-align: right;\n",
       "    }\n",
       "</style>\n",
       "<table border=\"1\" class=\"dataframe\">\n",
       "  <thead>\n",
       "    <tr style=\"text-align: right;\">\n",
       "      <th></th>\n",
       "      <th>tweet_count_2d</th>\n",
       "      <th>protest_count_2d</th>\n",
       "      <th>tweet_count_1d</th>\n",
       "      <th>tweet_count_forecast</th>\n",
       "      <th>protest_count_1d</th>\n",
       "      <th>protest_count_forecast</th>\n",
       "    </tr>\n",
       "    <tr>\n",
       "      <th>date</th>\n",
       "      <th></th>\n",
       "      <th></th>\n",
       "      <th></th>\n",
       "      <th></th>\n",
       "      <th></th>\n",
       "      <th></th>\n",
       "    </tr>\n",
       "  </thead>\n",
       "  <tbody>\n",
       "    <tr>\n",
       "      <th>2020-10-26</th>\n",
       "      <td>0.009841</td>\n",
       "      <td>-0.004700</td>\n",
       "      <td>0.008970</td>\n",
       "      <td>0.011256</td>\n",
       "      <td>-0.030423</td>\n",
       "      <td>-0.025600</td>\n",
       "    </tr>\n",
       "    <tr>\n",
       "      <th>2020-10-27</th>\n",
       "      <td>0.013592</td>\n",
       "      <td>-0.004261</td>\n",
       "      <td>0.022563</td>\n",
       "      <td>0.033819</td>\n",
       "      <td>-0.034684</td>\n",
       "      <td>-0.060284</td>\n",
       "    </tr>\n",
       "    <tr>\n",
       "      <th>2020-10-28</th>\n",
       "      <td>0.017201</td>\n",
       "      <td>-0.002061</td>\n",
       "      <td>0.039764</td>\n",
       "      <td>0.073583</td>\n",
       "      <td>-0.036745</td>\n",
       "      <td>-0.097029</td>\n",
       "    </tr>\n",
       "    <tr>\n",
       "      <th>2020-10-29</th>\n",
       "      <td>0.020658</td>\n",
       "      <td>0.000682</td>\n",
       "      <td>0.060421</td>\n",
       "      <td>0.134004</td>\n",
       "      <td>-0.036063</td>\n",
       "      <td>-0.133092</td>\n",
       "    </tr>\n",
       "    <tr>\n",
       "      <th>2020-10-30</th>\n",
       "      <td>0.023962</td>\n",
       "      <td>0.003535</td>\n",
       "      <td>0.084384</td>\n",
       "      <td>0.218388</td>\n",
       "      <td>-0.032527</td>\n",
       "      <td>-0.165619</td>\n",
       "    </tr>\n",
       "    <tr>\n",
       "      <th>2020-10-31</th>\n",
       "      <td>0.027120</td>\n",
       "      <td>0.006344</td>\n",
       "      <td>0.111504</td>\n",
       "      <td>0.329892</td>\n",
       "      <td>-0.026184</td>\n",
       "      <td>-0.191803</td>\n",
       "    </tr>\n",
       "    <tr>\n",
       "      <th>2020-11-01</th>\n",
       "      <td>0.030137</td>\n",
       "      <td>0.009057</td>\n",
       "      <td>0.141642</td>\n",
       "      <td>0.471534</td>\n",
       "      <td>-0.017126</td>\n",
       "      <td>-0.208929</td>\n",
       "    </tr>\n",
       "    <tr>\n",
       "      <th>2020-11-02</th>\n",
       "      <td>0.033019</td>\n",
       "      <td>0.011660</td>\n",
       "      <td>0.174661</td>\n",
       "      <td>0.646195</td>\n",
       "      <td>-0.005467</td>\n",
       "      <td>-0.214396</td>\n",
       "    </tr>\n",
       "    <tr>\n",
       "      <th>2020-11-03</th>\n",
       "      <td>0.035772</td>\n",
       "      <td>0.014150</td>\n",
       "      <td>0.210433</td>\n",
       "      <td>0.856628</td>\n",
       "      <td>0.008683</td>\n",
       "      <td>-0.205713</td>\n",
       "    </tr>\n",
       "    <tr>\n",
       "      <th>2020-11-04</th>\n",
       "      <td>0.038402</td>\n",
       "      <td>0.016529</td>\n",
       "      <td>0.248835</td>\n",
       "      <td>1.105462</td>\n",
       "      <td>0.025212</td>\n",
       "      <td>-0.180501</td>\n",
       "    </tr>\n",
       "    <tr>\n",
       "      <th>2020-11-05</th>\n",
       "      <td>0.040913</td>\n",
       "      <td>0.018803</td>\n",
       "      <td>0.289748</td>\n",
       "      <td>1.395210</td>\n",
       "      <td>0.044015</td>\n",
       "      <td>-0.136486</td>\n",
       "    </tr>\n",
       "    <tr>\n",
       "      <th>2020-11-06</th>\n",
       "      <td>0.043313</td>\n",
       "      <td>0.020975</td>\n",
       "      <td>0.333061</td>\n",
       "      <td>1.728271</td>\n",
       "      <td>0.064990</td>\n",
       "      <td>-0.071496</td>\n",
       "    </tr>\n",
       "    <tr>\n",
       "      <th>2020-11-07</th>\n",
       "      <td>0.045604</td>\n",
       "      <td>0.023050</td>\n",
       "      <td>0.378665</td>\n",
       "      <td>2.106936</td>\n",
       "      <td>0.088040</td>\n",
       "      <td>0.016544</td>\n",
       "    </tr>\n",
       "    <tr>\n",
       "      <th>2020-11-08</th>\n",
       "      <td>0.047793</td>\n",
       "      <td>0.025032</td>\n",
       "      <td>0.426459</td>\n",
       "      <td>2.533395</td>\n",
       "      <td>0.113072</td>\n",
       "      <td>0.129616</td>\n",
       "    </tr>\n",
       "    <tr>\n",
       "      <th>2020-11-09</th>\n",
       "      <td>0.049884</td>\n",
       "      <td>0.026925</td>\n",
       "      <td>0.476343</td>\n",
       "      <td>3.009738</td>\n",
       "      <td>0.139997</td>\n",
       "      <td>0.269613</td>\n",
       "    </tr>\n",
       "  </tbody>\n",
       "</table>\n",
       "</div>"
      ],
      "text/plain": [
       "            tweet_count_2d  protest_count_2d  tweet_count_1d  \\\n",
       "date                                                           \n",
       "2020-10-26        0.009841         -0.004700        0.008970   \n",
       "2020-10-27        0.013592         -0.004261        0.022563   \n",
       "2020-10-28        0.017201         -0.002061        0.039764   \n",
       "2020-10-29        0.020658          0.000682        0.060421   \n",
       "2020-10-30        0.023962          0.003535        0.084384   \n",
       "2020-10-31        0.027120          0.006344        0.111504   \n",
       "2020-11-01        0.030137          0.009057        0.141642   \n",
       "2020-11-02        0.033019          0.011660        0.174661   \n",
       "2020-11-03        0.035772          0.014150        0.210433   \n",
       "2020-11-04        0.038402          0.016529        0.248835   \n",
       "2020-11-05        0.040913          0.018803        0.289748   \n",
       "2020-11-06        0.043313          0.020975        0.333061   \n",
       "2020-11-07        0.045604          0.023050        0.378665   \n",
       "2020-11-08        0.047793          0.025032        0.426459   \n",
       "2020-11-09        0.049884          0.026925        0.476343   \n",
       "\n",
       "            tweet_count_forecast  protest_count_1d  protest_count_forecast  \n",
       "date                                                                        \n",
       "2020-10-26              0.011256         -0.030423               -0.025600  \n",
       "2020-10-27              0.033819         -0.034684               -0.060284  \n",
       "2020-10-28              0.073583         -0.036745               -0.097029  \n",
       "2020-10-29              0.134004         -0.036063               -0.133092  \n",
       "2020-10-30              0.218388         -0.032527               -0.165619  \n",
       "2020-10-31              0.329892         -0.026184               -0.191803  \n",
       "2020-11-01              0.471534         -0.017126               -0.208929  \n",
       "2020-11-02              0.646195         -0.005467               -0.214396  \n",
       "2020-11-03              0.856628          0.008683               -0.205713  \n",
       "2020-11-04              1.105462          0.025212               -0.180501  \n",
       "2020-11-05              1.395210          0.044015               -0.136486  \n",
       "2020-11-06              1.728271          0.064990               -0.071496  \n",
       "2020-11-07              2.106936          0.088040                0.016544  \n",
       "2020-11-08              2.533395          0.113072                0.129616  \n",
       "2020-11-09              3.009738          0.139997                0.269613  "
      ]
     },
     "execution_count": 145,
     "metadata": {},
     "output_type": "execute_result"
    }
   ],
   "source": [
    "df_results = invert_transformation(df_train, df_forecast, second_diff=True)        \n",
    "df_results"
   ]
  },
  {
   "cell_type": "code",
   "execution_count": 146,
   "metadata": {},
   "outputs": [
    {
     "data": {
      "image/png": "[encoded data removed]",
      "text/plain": [
       "<Figure size 720x360 with 2 Axes>"
      ]
     },
     "metadata": {
      "needs_background": "light"
     },
     "output_type": "display_data"
    }
   ],
   "source": [
    "fig, axes = plt.subplots(nrows=int(len(df.columns)/2), ncols=2,  figsize=(10,5)) #dpi=150,\n",
    "for i, (col,ax) in enumerate(zip(df.columns, axes.flatten())):\n",
    "    df_results[col+'_forecast'].plot(legend=True, ax=ax).autoscale(axis='x',tight=True)\n",
    "    df_test[col][-nobs:].plot(legend=True, ax=ax);\n",
    "    ax.set_title(col + \": Forecast vs Actuals\")\n",
    "    ax.xaxis.set_ticks_position('none')\n",
    "    ax.yaxis.set_ticks_position('none')\n",
    "    ax.spines[\"top\"].set_alpha(0)\n",
    "    ax.tick_params(labelsize=6)\n",
    "\n",
    "plt.tight_layout();"
   ]
  },
  {
   "cell_type": "markdown",
   "metadata": {},
   "source": [
    "df"
   ]
  },
  {
   "cell_type": "markdown",
   "metadata": {},
   "source": [
    "### Multivariate LSTM Forecast Model"
   ]
  },
  {
   "cell_type": "markdown",
   "metadata": {},
   "source": [
    "### 1. Prepare data for modelling\n",
    "We will frame the supervised learning problem as predicting the number of physical protests at the current day (t) given the number of physical protests and number of tweets at the prior time step."
   ]
  },
  {
   "cell_type": "code",
   "execution_count": 174,
   "metadata": {},
   "outputs": [],
   "source": [
    "# tweets_geo = gpd.read_file(\"../data/raw/processed/tweets_gdf_fs.geojson\")\n",
    "# protest data\n",
    "# df_p = pd.read_excel(\"../data/raw/protests/USA_2020_2021_Feb12.xlsx\")\n",
    "# df_p['protest_count'] = 1\n",
    "# df_p['EVENT_DATE'] = pd.to_datetime(df_p['EVENT_DATE'])\n",
    "# df_p = df_p[(df_p['ASSOC_ACTOR_1'] == \"BLM: Black Lives Matter\")&(df_p['EVENT_DATE'] > \"2020-05-25\")]"
   ]
  },
  {
   "cell_type": "code",
   "execution_count": 295,
   "metadata": {},
   "outputs": [
    {
     "data": {
      "text/html": [
       "<div>\n",
       "<style scoped>\n",
       "    .dataframe tbody tr th:only-of-type {\n",
       "        vertical-align: middle;\n",
       "    }\n",
       "\n",
       "    .dataframe tbody tr th {\n",
       "        vertical-align: top;\n",
       "    }\n",
       "\n",
       "    .dataframe thead th {\n",
       "        text-align: right;\n",
       "    }\n",
       "</style>\n",
       "<table border=\"1\" class=\"dataframe\">\n",
       "  <thead>\n",
       "    <tr style=\"text-align: right;\">\n",
       "      <th></th>\n",
       "      <th>tweet_count</th>\n",
       "      <th>protest_count</th>\n",
       "      <th>protest_count_lag1</th>\n",
       "      <th>protest_count_lag2</th>\n",
       "      <th>protest_count_lag3</th>\n",
       "      <th>protest_count_lag4</th>\n",
       "      <th>protest_count_lag5</th>\n",
       "      <th>protest_count_lag6</th>\n",
       "      <th>protest_count_lag7</th>\n",
       "      <th>tweet_count_lag1</th>\n",
       "      <th>tweet_count_lag2</th>\n",
       "      <th>tweet_count_lag3</th>\n",
       "      <th>tweet_count_lag4</th>\n",
       "      <th>tweet_count_lag5</th>\n",
       "      <th>tweet_count_lag6</th>\n",
       "      <th>tweet_count_lag7</th>\n",
       "    </tr>\n",
       "  </thead>\n",
       "  <tbody>\n",
       "    <tr>\n",
       "      <th>0</th>\n",
       "      <td>0.045669</td>\n",
       "      <td>0.009646</td>\n",
       "      <td>NaN</td>\n",
       "      <td>NaN</td>\n",
       "      <td>NaN</td>\n",
       "      <td>NaN</td>\n",
       "      <td>NaN</td>\n",
       "      <td>NaN</td>\n",
       "      <td>NaN</td>\n",
       "      <td>NaN</td>\n",
       "      <td>NaN</td>\n",
       "      <td>NaN</td>\n",
       "      <td>NaN</td>\n",
       "      <td>NaN</td>\n",
       "      <td>NaN</td>\n",
       "      <td>NaN</td>\n",
       "    </tr>\n",
       "    <tr>\n",
       "      <th>1</th>\n",
       "      <td>0.199820</td>\n",
       "      <td>0.020900</td>\n",
       "      <td>0.009646</td>\n",
       "      <td>NaN</td>\n",
       "      <td>NaN</td>\n",
       "      <td>NaN</td>\n",
       "      <td>NaN</td>\n",
       "      <td>NaN</td>\n",
       "      <td>NaN</td>\n",
       "      <td>0.045669</td>\n",
       "      <td>NaN</td>\n",
       "      <td>NaN</td>\n",
       "      <td>NaN</td>\n",
       "      <td>NaN</td>\n",
       "      <td>NaN</td>\n",
       "      <td>NaN</td>\n",
       "    </tr>\n",
       "    <tr>\n",
       "      <th>2</th>\n",
       "      <td>0.370030</td>\n",
       "      <td>0.070740</td>\n",
       "      <td>0.020900</td>\n",
       "      <td>0.009646</td>\n",
       "      <td>NaN</td>\n",
       "      <td>NaN</td>\n",
       "      <td>NaN</td>\n",
       "      <td>NaN</td>\n",
       "      <td>NaN</td>\n",
       "      <td>0.199820</td>\n",
       "      <td>0.045669</td>\n",
       "      <td>NaN</td>\n",
       "      <td>NaN</td>\n",
       "      <td>NaN</td>\n",
       "      <td>NaN</td>\n",
       "      <td>NaN</td>\n",
       "    </tr>\n",
       "    <tr>\n",
       "      <th>3</th>\n",
       "      <td>0.541355</td>\n",
       "      <td>0.221865</td>\n",
       "      <td>0.070740</td>\n",
       "      <td>0.020900</td>\n",
       "      <td>0.009646</td>\n",
       "      <td>NaN</td>\n",
       "      <td>NaN</td>\n",
       "      <td>NaN</td>\n",
       "      <td>NaN</td>\n",
       "      <td>0.370030</td>\n",
       "      <td>0.199820</td>\n",
       "      <td>0.045669</td>\n",
       "      <td>NaN</td>\n",
       "      <td>NaN</td>\n",
       "      <td>NaN</td>\n",
       "      <td>NaN</td>\n",
       "    </tr>\n",
       "    <tr>\n",
       "      <th>4</th>\n",
       "      <td>0.585227</td>\n",
       "      <td>0.588424</td>\n",
       "      <td>0.221865</td>\n",
       "      <td>0.070740</td>\n",
       "      <td>0.020900</td>\n",
       "      <td>0.009646</td>\n",
       "      <td>NaN</td>\n",
       "      <td>NaN</td>\n",
       "      <td>NaN</td>\n",
       "      <td>0.541355</td>\n",
       "      <td>0.370030</td>\n",
       "      <td>0.199820</td>\n",
       "      <td>0.045669</td>\n",
       "      <td>NaN</td>\n",
       "      <td>NaN</td>\n",
       "      <td>NaN</td>\n",
       "    </tr>\n",
       "    <tr>\n",
       "      <th>5</th>\n",
       "      <td>0.817652</td>\n",
       "      <td>0.744373</td>\n",
       "      <td>0.588424</td>\n",
       "      <td>0.221865</td>\n",
       "      <td>0.070740</td>\n",
       "      <td>0.020900</td>\n",
       "      <td>0.009646</td>\n",
       "      <td>NaN</td>\n",
       "      <td>NaN</td>\n",
       "      <td>0.585227</td>\n",
       "      <td>0.541355</td>\n",
       "      <td>0.370030</td>\n",
       "      <td>0.199820</td>\n",
       "      <td>0.045669</td>\n",
       "      <td>NaN</td>\n",
       "      <td>NaN</td>\n",
       "    </tr>\n",
       "    <tr>\n",
       "      <th>6</th>\n",
       "      <td>0.799336</td>\n",
       "      <td>0.604502</td>\n",
       "      <td>0.744373</td>\n",
       "      <td>0.588424</td>\n",
       "      <td>0.221865</td>\n",
       "      <td>0.070740</td>\n",
       "      <td>0.020900</td>\n",
       "      <td>0.009646</td>\n",
       "      <td>NaN</td>\n",
       "      <td>0.817652</td>\n",
       "      <td>0.585227</td>\n",
       "      <td>0.541355</td>\n",
       "      <td>0.370030</td>\n",
       "      <td>0.199820</td>\n",
       "      <td>0.045669</td>\n",
       "      <td>NaN</td>\n",
       "    </tr>\n",
       "    <tr>\n",
       "      <th>7</th>\n",
       "      <td>1.000000</td>\n",
       "      <td>0.673633</td>\n",
       "      <td>0.604502</td>\n",
       "      <td>0.744373</td>\n",
       "      <td>0.588424</td>\n",
       "      <td>0.221865</td>\n",
       "      <td>0.070740</td>\n",
       "      <td>0.020900</td>\n",
       "      <td>0.009646</td>\n",
       "      <td>0.799336</td>\n",
       "      <td>0.817652</td>\n",
       "      <td>0.585227</td>\n",
       "      <td>0.541355</td>\n",
       "      <td>0.370030</td>\n",
       "      <td>0.199820</td>\n",
       "      <td>0.045669</td>\n",
       "    </tr>\n",
       "    <tr>\n",
       "      <th>8</th>\n",
       "      <td>0.727213</td>\n",
       "      <td>0.588424</td>\n",
       "      <td>0.673633</td>\n",
       "      <td>0.604502</td>\n",
       "      <td>0.744373</td>\n",
       "      <td>0.588424</td>\n",
       "      <td>0.221865</td>\n",
       "      <td>0.070740</td>\n",
       "      <td>0.020900</td>\n",
       "      <td>1.000000</td>\n",
       "      <td>0.799336</td>\n",
       "      <td>0.817652</td>\n",
       "      <td>0.585227</td>\n",
       "      <td>0.541355</td>\n",
       "      <td>0.370030</td>\n",
       "      <td>0.199820</td>\n",
       "    </tr>\n",
       "    <tr>\n",
       "      <th>9</th>\n",
       "      <td>0.600196</td>\n",
       "      <td>0.508039</td>\n",
       "      <td>0.588424</td>\n",
       "      <td>0.673633</td>\n",
       "      <td>0.604502</td>\n",
       "      <td>0.744373</td>\n",
       "      <td>0.588424</td>\n",
       "      <td>0.221865</td>\n",
       "      <td>0.070740</td>\n",
       "      <td>0.727213</td>\n",
       "      <td>1.000000</td>\n",
       "      <td>0.799336</td>\n",
       "      <td>0.817652</td>\n",
       "      <td>0.585227</td>\n",
       "      <td>0.541355</td>\n",
       "      <td>0.370030</td>\n",
       "    </tr>\n",
       "  </tbody>\n",
       "</table>\n",
       "</div>"
      ],
      "text/plain": [
       "   tweet_count  protest_count  protest_count_lag1  protest_count_lag2  \\\n",
       "0     0.045669       0.009646                 NaN                 NaN   \n",
       "1     0.199820       0.020900            0.009646                 NaN   \n",
       "2     0.370030       0.070740            0.020900            0.009646   \n",
       "3     0.541355       0.221865            0.070740            0.020900   \n",
       "4     0.585227       0.588424            0.221865            0.070740   \n",
       "5     0.817652       0.744373            0.588424            0.221865   \n",
       "6     0.799336       0.604502            0.744373            0.588424   \n",
       "7     1.000000       0.673633            0.604502            0.744373   \n",
       "8     0.727213       0.588424            0.673633            0.604502   \n",
       "9     0.600196       0.508039            0.588424            0.673633   \n",
       "\n",
       "   protest_count_lag3  protest_count_lag4  protest_count_lag5  \\\n",
       "0                 NaN                 NaN                 NaN   \n",
       "1                 NaN                 NaN                 NaN   \n",
       "2                 NaN                 NaN                 NaN   \n",
       "3            0.009646                 NaN                 NaN   \n",
       "4            0.020900            0.009646                 NaN   \n",
       "5            0.070740            0.020900            0.009646   \n",
       "6            0.221865            0.070740            0.020900   \n",
       "7            0.588424            0.221865            0.070740   \n",
       "8            0.744373            0.588424            0.221865   \n",
       "9            0.604502            0.744373            0.588424   \n",
       "\n",
       "   protest_count_lag6  protest_count_lag7  tweet_count_lag1  tweet_count_lag2  \\\n",
       "0                 NaN                 NaN               NaN               NaN   \n",
       "1                 NaN                 NaN          0.045669               NaN   \n",
       "2                 NaN                 NaN          0.199820          0.045669   \n",
       "3                 NaN                 NaN          0.370030          0.199820   \n",
       "4                 NaN                 NaN          0.541355          0.370030   \n",
       "5                 NaN                 NaN          0.585227          0.541355   \n",
       "6            0.009646                 NaN          0.817652          0.585227   \n",
       "7            0.020900            0.009646          0.799336          0.817652   \n",
       "8            0.070740            0.020900          1.000000          0.799336   \n",
       "9            0.221865            0.070740          0.727213          1.000000   \n",
       "\n",
       "   tweet_count_lag3  tweet_count_lag4  tweet_count_lag5  tweet_count_lag6  \\\n",
       "0               NaN               NaN               NaN               NaN   \n",
       "1               NaN               NaN               NaN               NaN   \n",
       "2               NaN               NaN               NaN               NaN   \n",
       "3          0.045669               NaN               NaN               NaN   \n",
       "4          0.199820          0.045669               NaN               NaN   \n",
       "5          0.370030          0.199820          0.045669               NaN   \n",
       "6          0.541355          0.370030          0.199820          0.045669   \n",
       "7          0.585227          0.541355          0.370030          0.199820   \n",
       "8          0.817652          0.585227          0.541355          0.370030   \n",
       "9          0.799336          0.817652          0.585227          0.541355   \n",
       "\n",
       "   tweet_count_lag7  \n",
       "0               NaN  \n",
       "1               NaN  \n",
       "2               NaN  \n",
       "3               NaN  \n",
       "4               NaN  \n",
       "5               NaN  \n",
       "6               NaN  \n",
       "7          0.045669  \n",
       "8          0.199820  \n",
       "9          0.370030  "
      ]
     },
     "execution_count": 295,
     "metadata": {},
     "output_type": "execute_result"
    }
   ],
   "source": [
    "from math import sqrt\n",
    "from numpy import concatenate\n",
    "from matplotlib import pyplot\n",
    "from pandas import read_csv\n",
    "from pandas import DataFrame\n",
    "from pandas import concat\n",
    "from sklearn.preprocessing import MinMaxScaler\n",
    "from sklearn.preprocessing import LabelEncoder\n",
    "from sklearn.metrics import mean_squared_error\n",
    "# from keras.models import Sequential\n",
    "# from keras.layers import Dense\n",
    "# from keras.layers import LSTM\n",
    "from tensorflow.keras import Sequential\n",
    "from tensorflow.keras.layers import Conv2D, Flatten, Dense, LSTM\n",
    "\n",
    " \n",
    "# load dataset\n",
    "dataset = df_p_t.iloc[:,3:]\n",
    "values = dataset.values\n",
    "# ensure all data is float\n",
    "values = values.astype('float32')\n",
    "# normalize features\n",
    "scaler = MinMaxScaler(feature_range=(0, 1))\n",
    "scaled = DataFrame(scaler.fit_transform(values))\n",
    "scaled.columns = dataset.columns\n",
    "# # frame as supervised learning\n",
    "# reframed = series_to_supervised(scaled, 1, 1)\n",
    "# # drop columns we don't want to predict\n",
    "# reframed.drop(reframed.columns[[9,10,11,12,13,14,15]], axis=1, inplace=True)\n",
    "scaled.head(10)"
   ]
  },
  {
   "cell_type": "code",
   "execution_count": 299,
   "metadata": {},
   "outputs": [
    {
     "name": "stdout",
     "output_type": "stream",
     "text": [
      "(100, 1, 1) (100,) (68, 1, 1) (68,)\n",
      "Training: \tX.shape: (100, 1, 1), \tY.shape: (100,)\n",
      "Validation:\tX.shape: (68, 1, 1), \tY.shape: (68,)\n"
     ]
    }
   ],
   "source": [
    "# split into train and test sets\n",
    "p_lag = \"\"\n",
    "t_lag = \"\" #\"_lag1\"\n",
    "values = scaled[[f'tweet_count{t_lag}', f'protest_count{p_lag}']].values\n",
    "n_train_days = 100\n",
    "train = values[:n_train_days, :]\n",
    "test = values[n_train_days:, :]\n",
    "# split into input and outputs\n",
    "train_X, train_y = train[:, :-1], train[:, -1]\n",
    "test_X, test_y = test[:, :-1], test[:, -1]\n",
    "# reshape input to be 3D [samples, timesteps, features]\n",
    "train_X = train_X.reshape((train_X.shape[0], 1, train_X.shape[1]))\n",
    "test_X = test_X.reshape((test_X.shape[0], 1, test_X.shape[1]))\n",
    "print(train_X.shape, train_y.shape, test_X.shape, test_y.shape)\n",
    "print(f\"Training: \\tX.shape: {train_X.shape}, \\tY.shape: {train_y.shape}\")\n",
    "print(f\"Validation:\\tX.shape: {test_X.shape}, \\tY.shape: {test_y.shape}\")"
   ]
  },
  {
   "cell_type": "code",
   "execution_count": 270,
   "metadata": {},
   "outputs": [],
   "source": [
    "# scaled[[f'tweet_count{t_lag}', f'protest_count{p_lag}']]"
   ]
  },
  {
   "cell_type": "code",
   "execution_count": 248,
   "metadata": {},
   "outputs": [],
   "source": [
    "# train_X"
   ]
  },
  {
   "cell_type": "markdown",
   "metadata": {},
   "source": [
    "### 2. Define and Fit Model\n",
    "Now we can define and fit our LSTM model.\n",
    "\n",
    "We will define the LSTM with 50 neurons in the first hidden layer and 1 neuron in the output layer for predicting pollution. The input shape will be 1 time step with 8 features.\n",
    "\n",
    "We will use the Mean Absolute Error (MAE) loss function and the efficient Adam version of stochastic gradient descent.\n",
    "\n",
    "The model will be fit for 50 training epochs with a batch size of 72. Remember that the internal state of the LSTM in Keras is reset at the end of each batch, so an internal state that is a function of a number of days may be helpful (try testing this).\n",
    "\n",
    "Finally, we keep track of both the training and test loss during training by setting the validation_data argument in the fit() function. At the end of the run both the training and test loss are plotted."
   ]
  },
  {
   "cell_type": "code",
   "execution_count": 283,
   "metadata": {},
   "outputs": [],
   "source": [
    "# Function for model creation\n",
    "# def FNNmodel(n_hidden_neurons=10, dropout_rate=0.1):\n",
    "#   i = Input(shape=(T,))      \n",
    "#   x = Dense(neurons, activation='sigmoid', name='Hidden_layer')(i)\n",
    "#   x = Dropout(dropout_rate)(x)\n",
    "#   x = Dense(1, activation='sigmoid', name='Output')(x)  \n",
    "#   model = Model(i,x)\n",
    "#   return model\n",
    "\n",
    "def RNNmodel(n_hidden_neurons=10, cell_type='LSTM', dropout_rate=0.2):\n",
    "    i = Input(shape=(train_X.shape[1], train_X.shape[2]))\n",
    "    if cell_type == 'SimpleRNN':\n",
    "        x = SimpleRNN(n_hidden_neurons, activation='tanh', return_sequences=False, name='SimpleRNN')(i)\n",
    "    elif cell_type == 'LSTM':\n",
    "        x = LSTM(n_hidden_neurons, activation='tanh', name='LSTM')(i)\n",
    "    else:\n",
    "        raise Exception(\"Error: Cell type not recognized! Choose between 'SimpleRNN','LSTM', or 'GRU'.\")    \n",
    "    x = Dropout(dropout_rate)(x)\n",
    "    x = Dense(1, activation='sigmoid', name='Output')(x)\n",
    "    model = Model(i,x)\n",
    "    return model"
   ]
  },
  {
   "cell_type": "code",
   "execution_count": 278,
   "metadata": {},
   "outputs": [
    {
     "data": {
      "text/plain": [
       "(100, 1)"
      ]
     },
     "execution_count": 278,
     "metadata": {},
     "output_type": "execute_result"
    }
   ],
   "source": [
    "train_X.shape[0], train_X.shape[1]"
   ]
  },
  {
   "cell_type": "code",
   "execution_count": 227,
   "metadata": {},
   "outputs": [
    {
     "data": {
      "text/plain": [
       "<tf.Tensor 'input_7:0' shape=(None, 100, 1) dtype=float32>"
      ]
     },
     "execution_count": 227,
     "metadata": {},
     "output_type": "execute_result"
    }
   ],
   "source": [
    "Input(shape=(train_X.shape[0], train_X.shape[1]))"
   ]
  },
  {
   "cell_type": "code",
   "execution_count": 284,
   "metadata": {},
   "outputs": [
    {
     "name": "stdout",
     "output_type": "stream",
     "text": [
      "Model: \"functional_5\"\n",
      "_________________________________________________________________\n",
      "Layer (type)                 Output Shape              Param #   \n",
      "=================================================================\n",
      "input_3 (InputLayer)         [(None, 1, 1)]            0         \n",
      "_________________________________________________________________\n",
      "LSTM (LSTM)                  (None, 50)                10400     \n",
      "_________________________________________________________________\n",
      "dropout_2 (Dropout)          (None, 50)                0         \n",
      "_________________________________________________________________\n",
      "Output (Dense)               (None, 1)                 51        \n",
      "=================================================================\n",
      "Total params: 10,451\n",
      "Trainable params: 10,451\n",
      "Non-trainable params: 0\n",
      "_________________________________________________________________\n"
     ]
    }
   ],
   "source": [
    "# ANN_type = ['SimpleRNN','LSTM']\n",
    "# neurons = [10,25]\n",
    "# dropout_rate = [0,0.25]\n",
    "lr = 0.0001#[0.0001]\n",
    "# batch_size = [16]\n",
    "\n",
    "# all_combinations = list(itertools.product(*[ANN_type,neurons,dropout_rate,lr,batch_size]))\n",
    "# print(pd.DataFrame(data=all_combinations, columns=['ann_type','neurons','dropout_rate','lr','batch_size']))\n",
    "# model = RNNmodel(neurons, cell_type=ANN_type, dropout_rate=dropout_rate)\n",
    "model = RNNmodel(50, cell_type=\"LSTM\", dropout_rate=0)\n",
    "model.compile(loss='binary_crossentropy', optimizer=Adam(lr=lr), metrics=['accuracy'])\n",
    "model.summary()"
   ]
  },
  {
   "cell_type": "code",
   "execution_count": 304,
   "metadata": {},
   "outputs": [
    {
     "name": "stdout",
     "output_type": "stream",
     "text": [
      "Model: \"sequential\"\n",
      "_________________________________________________________________\n",
      "Layer (type)                 Output Shape              Param #   \n",
      "=================================================================\n",
      "lstm (LSTM)                  (None, 50)                10400     \n",
      "_________________________________________________________________\n",
      "dense (Dense)                (None, 1)                 51        \n",
      "=================================================================\n",
      "Total params: 10,451\n",
      "Trainable params: 10,451\n",
      "Non-trainable params: 0\n",
      "_________________________________________________________________\n"
     ]
    }
   ],
   "source": [
    "import tensorflow\n",
    "tensorflow.keras.backend.clear_session()\n",
    "# design network\n",
    "model = Sequential()\n",
    "model.add(LSTM(50, input_shape=(train_X.shape[1], train_X.shape[2])))\n",
    "model.add(Dense(1))\n",
    "model.compile(loss='mae', optimizer='adam', metrics=['accuracy'])\n",
    "# model.compile(loss='binary_crossentropy', optimizer=Adam(lr=lr), metrics=['accuracy'])\n",
    "model.summary()"
   ]
  },
  {
   "cell_type": "code",
   "execution_count": 1,
   "metadata": {},
   "outputs": [
    {
     "ename": "NameError",
     "evalue": "name 'model' is not defined",
     "output_type": "error",
     "traceback": [
      "\u001b[1;31m---------------------------------------------------------------------------\u001b[0m",
      "\u001b[1;31mNameError\u001b[0m                                 Traceback (most recent call last)",
      "\u001b[1;32m<ipython-input-1-f311f0e5be69>\u001b[0m in \u001b[0;36m<module>\u001b[1;34m\u001b[0m\n\u001b[0;32m      1\u001b[0m \u001b[1;31m# fit network\u001b[0m\u001b[1;33m\u001b[0m\u001b[1;33m\u001b[0m\u001b[1;33m\u001b[0m\u001b[0m\n\u001b[1;32m----> 2\u001b[1;33m \u001b[0mhistory\u001b[0m \u001b[1;33m=\u001b[0m \u001b[0mmodel\u001b[0m\u001b[1;33m.\u001b[0m\u001b[0mfit\u001b[0m\u001b[1;33m(\u001b[0m\u001b[0mtrain_X\u001b[0m\u001b[1;33m,\u001b[0m \u001b[0mtrain_y\u001b[0m\u001b[1;33m,\u001b[0m \u001b[0mepochs\u001b[0m\u001b[1;33m=\u001b[0m\u001b[1;36m200\u001b[0m\u001b[1;33m,\u001b[0m \u001b[0mbatch_size\u001b[0m\u001b[1;33m=\u001b[0m\u001b[1;36m10\u001b[0m\u001b[1;33m,\u001b[0m \u001b[0mvalidation_data\u001b[0m\u001b[1;33m=\u001b[0m\u001b[1;33m(\u001b[0m\u001b[0mtest_X\u001b[0m\u001b[1;33m,\u001b[0m \u001b[0mtest_y\u001b[0m\u001b[1;33m)\u001b[0m\u001b[1;33m,\u001b[0m \u001b[0mverbose\u001b[0m\u001b[1;33m=\u001b[0m\u001b[1;36m2\u001b[0m\u001b[1;33m,\u001b[0m \u001b[0mshuffle\u001b[0m\u001b[1;33m=\u001b[0m\u001b[1;32mFalse\u001b[0m\u001b[1;33m)\u001b[0m\u001b[1;33m\u001b[0m\u001b[1;33m\u001b[0m\u001b[0m\n\u001b[0m\u001b[0;32m      3\u001b[0m \u001b[1;31m# plot history\u001b[0m\u001b[1;33m\u001b[0m\u001b[1;33m\u001b[0m\u001b[1;33m\u001b[0m\u001b[0m\n\u001b[0;32m      4\u001b[0m \u001b[1;31m# pyplot.plot(history.history['accuracy'], label='train')\u001b[0m\u001b[1;33m\u001b[0m\u001b[1;33m\u001b[0m\u001b[1;33m\u001b[0m\u001b[0m\n\u001b[0;32m      5\u001b[0m \u001b[1;31m# pyplot.plot(history.history['val_accuracy'], label='test')\u001b[0m\u001b[1;33m\u001b[0m\u001b[1;33m\u001b[0m\u001b[1;33m\u001b[0m\u001b[0m\n",
      "\u001b[1;31mNameError\u001b[0m: name 'model' is not defined"
     ]
    }
   ],
   "source": [
    "# fit network\n",
    "history = model.fit(train_X, train_y, epochs=200, batch_size=10, validation_data=(test_X, test_y), verbose=2, shuffle=False)\n",
    "# plot history\n",
    "# pyplot.plot(history.history['accuracy'], label='train')\n",
    "# pyplot.plot(history.history['val_accuracy'], label='test')\n",
    "pyplot.plot(history.history['loss'], label='train')\n",
    "pyplot.plot(history.history['val_loss'], label='test')\n",
    "pyplot.legend()\n",
    "pyplot.show()"
   ]
  },
  {
   "cell_type": "code",
   "execution_count": 187,
   "metadata": {},
   "outputs": [],
   "source": [
    "# scaled[[f'tweet_count{lag}', f'protest_count{lag}']]"
   ]
  }
 ],
 "metadata": {
  "kernelspec": {
   "display_name": "Python 3",
   "language": "python",
   "name": "python3"
  },
  "language_info": {
   "codemirror_mode": {
    "name": "ipython",
    "version": 3
   },
   "file_extension": ".py",
   "mimetype": "text/x-python",
   "name": "python",
   "nbconvert_exporter": "python",
   "pygments_lexer": "ipython3",
   "version": "3.7.3"
  }
 },
 "nbformat": 4,
 "nbformat_minor": 4
}
