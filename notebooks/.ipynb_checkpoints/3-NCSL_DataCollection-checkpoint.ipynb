{
 "cells": [
  {
   "cell_type": "markdown",
   "metadata": {},
   "source": [
    "### Websites to Scrape:\n",
    "1. https://app.powerbi.com/view?r=eyJrIjoiZGNhZGIwM2QtYTM2NC00ZjRiLTliNmMtZjdiMGQ2ZDRjYjg2IiwidCI6IjM4MmZiOGIwLTRkYzMtNDEwNy04MGJkLTM1OTViMjQzMmZhZSIsImMiOjZ9\n",
    "2. "
   ]
  },
  {
   "cell_type": "code",
   "execution_count": 6,
   "metadata": {},
   "outputs": [],
   "source": [
    "from requests import get\n",
    "import requests\n",
    "from bs4 import BeautifulSoup\n",
    "from time import sleep\n",
    "import re\n",
    "from random import randint #avoid throttling by not sending too many requests one after the other\n",
    "from warnings import warn\n",
    "from time import time\n",
    "from IPython.core.display import clear_output\n",
    "import numpy as np\n",
    "import datetime\n",
    "import pandas as pd\n",
    "import us"
   ]
  },
  {
   "cell_type": "markdown",
   "metadata": {},
   "source": [
    "### Cities"
   ]
  },
  {
   "cell_type": "code",
   "execution_count": 26,
   "metadata": {},
   "outputs": [],
   "source": [
    "r = requests.get(\"https://ballotpedia.org/Changes_to_policing_policy_in_the_states_and_100_largest_cities,_2020#Local_responses_in_100_largest_cities\")"
   ]
  },
  {
   "cell_type": "code",
   "execution_count": 84,
   "metadata": {},
   "outputs": [],
   "source": [
    "html = r.content\n",
    "soup = BeautifulSoup(html, 'html5lib')"
   ]
  },
  {
   "cell_type": "code",
   "execution_count": 98,
   "metadata": {},
   "outputs": [],
   "source": [
    "cities = []\n",
    "state = []\n",
    "date = []\n",
    "text = []\n",
    "\n",
    "city_policies = soup.find_all('span', class_='mw-headline')[72:151]\n",
    "for i in range(len(city_policies)):\n",
    "    # city\n",
    "    try:\n",
    "        city = city_policies[i].a['title']\n",
    "        cities.append(city)\n",
    "    except TypeError:\n",
    "        pass"
   ]
  },
  {
   "cell_type": "code",
   "execution_count": 104,
   "metadata": {},
   "outputs": [],
   "source": [
    "cities"
   ]
  },
  {
   "cell_type": "code",
   "execution_count": 118,
   "metadata": {},
   "outputs": [],
   "source": [
    "# from selenium import webdriver\n",
    "# import pandas as pd\n",
    "\n",
    "\n",
    "# driver = webdriver.Chrome('C:/chromedriver_win32/chromedriver.exe')\n",
    "# driver.get(\"http://useofforceproject.org/#review\")\n",
    "\n",
    "# html = driver.page_source\n",
    "\n",
    "# tables = pd.read_html(html)\n",
    "# data = tables[1]\n",
    "\n",
    "# driver.close()"
   ]
  },
  {
   "cell_type": "code",
   "execution_count": 120,
   "metadata": {},
   "outputs": [],
   "source": [
    "# html"
   ]
  },
  {
   "cell_type": "code",
   "execution_count": 122,
   "metadata": {},
   "outputs": [
    {
     "data": {
      "text/plain": [
       "'Atlanta, Georgia'"
      ]
     },
     "execution_count": 122,
     "metadata": {},
     "output_type": "execute_result"
    }
   ],
   "source": [
    "city_policies[0].a['title']"
   ]
  },
  {
   "cell_type": "code",
   "execution_count": 2,
   "metadata": {},
   "outputs": [],
   "source": [
    "# city_policies"
   ]
  },
  {
   "cell_type": "code",
   "execution_count": 74,
   "metadata": {},
   "outputs": [],
   "source": [
    "# soup.find_all('td')[25:]"
   ]
  },
  {
   "cell_type": "code",
   "execution_count": 76,
   "metadata": {},
   "outputs": [],
   "source": [
    "# soup.find_all('p')[25:]"
   ]
  },
  {
   "cell_type": "code",
   "execution_count": 3,
   "metadata": {},
   "outputs": [],
   "source": [
    "# soup.find_all('span', class_='mw-headline')[72:151]"
   ]
  },
  {
   "cell_type": "code",
   "execution_count": 4,
   "metadata": {},
   "outputs": [],
   "source": [
    "# soup"
   ]
  },
  {
   "cell_type": "markdown",
   "metadata": {},
   "source": [
    "### States:\n",
    "- Data scraped from: https://www.ncsl.org/research/civil-and-criminal-justice/legislative-responses-for-policing.aspx"
   ]
  },
  {
   "cell_type": "code",
   "execution_count": 293,
   "metadata": {},
   "outputs": [
    {
     "name": "stdout",
     "output_type": "stream",
     "text": [
      "There were 744 state policies related to policing in 2020.\n",
      "There were 1348 state policies related to policing in 2021.\n",
      "In total, there were 2092 state policies related to policing since the murder of George Floyd on May, 25th, 2020.\n"
     ]
    }
   ],
   "source": [
    "df_pol = []\n",
    "\n",
    "for year, div_id in {2020: \"dnn_ctr93953_StateNetDB_linkList\", 2021: \"dnn_ctr92166_StateNetDB_linkList\"}.items():\n",
    "    # read html page\n",
    "    soup = BeautifulSoup(open(fr\"C:/Users/Leonardo/OneDrive/Documents/TU_Delft/CodingProjects/PoliceBrutality/data/raw/NCLS/{year}_policies.html\"), \"html.parser\")\n",
    "    # clean html and convert policies to list of strings\n",
    "    policies = soup.find_all('div', id = div_id)[0].text.split('\\n')\n",
    "    policies_str = list(filter(None,[el.replace('  ','') for el in list(filter(None, policies))]))\n",
    "    policies_str_cl = [el for el in policies_str if \"Text Lookup\" not in el]\n",
    "    print(\"There were\", len([policies_str_cl[i+1] for i, x in enumerate(policies_str_cl) if x == 'Status:']), f\"state policies related to policing in {year}.\")\n",
    "    # extract all info of interest\n",
    "    policy_id = [policies_str_cl[i-3] for i, x in enumerate(policies_str_cl) if x == 'Status:']\n",
    "    state = [el[:2] for el in policy_id]\n",
    "    year = [el for el in policies_str_cl if el.startswith(\"2021\") or el.startswith(\"2020\")]\n",
    "    status = [policies_str_cl[i+1] for i, x in enumerate(policies_str_cl) if x == 'Status:']\n",
    "    DOLA = [policies_str_cl[i+1] for i, x in enumerate(policies_str_cl) if x == 'Date of Last Action:*\\xa0']\n",
    "    author = [policies_str_cl[i+1] for i, x in enumerate(policies_str_cl) if x == 'Author:']\n",
    "    topics = [policies_str_cl[i+1] for i, x in enumerate(policies_str_cl) if x == 'Topics: ']\n",
    "    summary = [policies_str_cl[i+1] for i, x in enumerate(policies_str_cl) if x == 'Summary: ']\n",
    "    history = [policies_str_cl[i-4] for i, x in enumerate(policies_str_cl) if x == 'Status:']\n",
    "\n",
    "    # make dataframe\n",
    "    df_data = {\"policy_id\": policy_id, \"state\": state, \"year\": year, \"status\": status, \n",
    "               \"date_of_last_action\": DOLA, \"author\": author, \"topics\": topics, \"summary\": summary, \"history\": history}\n",
    "    df = pd.DataFrame.from_dict(df_data)\n",
    "    df_pol.append(df)\n",
    "    \n",
    "df_policies = pd.concat(df_pol).reset_index().drop(\"index\", axis=1)\n",
    "# df_policies.to_csv(\"../data/raw/NCLS/2020_2021_state_policies.csv\")\n",
    "print(\"In total, there were\", len(df_policies), f\"state policies related to policing since the murder of George Floyd on May, 25th, 2020.\")"
   ]
  },
  {
   "cell_type": "code",
   "execution_count": 300,
   "metadata": {},
   "outputs": [],
   "source": []
  },
  {
   "cell_type": "code",
   "execution_count": 297,
   "metadata": {},
   "outputs": [],
   "source": [
    "# soup = BeautifulSoup(open(fr\"C:/Users/Leonardo/OneDrive/Documents/TU_Delft/CodingProjects/PoliceBrutality/data/raw/NCLS/2020_policies.html\"), \"html.parser\")\n",
    "#     # clean html and convert policies to list of strings\n",
    "# policies = soup.find_all('div', id = \"dnn_ctr93953_StateNetDB_linkList\")[0].text.split('\\n')"
   ]
  },
  {
   "cell_type": "code",
   "execution_count": 296,
   "metadata": {},
   "outputs": [],
   "source": [
    "# policies_str = list(filter(None,[el.replace('  ','') for el in list(filter(None, policies))]))\n",
    "# policies_str_cl = [el for el in policies_str if \"Text Lookup\" not in el]\n",
    "# print(\"There were\", len([policies_str_cl[i+1] for i, x in enumerate(policies_str_cl) if x == 'Status:']), \"state policies related to policing in 2021.\")"
   ]
  },
  {
   "cell_type": "code",
   "execution_count": 193,
   "metadata": {},
   "outputs": [],
   "source": [
    "# state_abbrv = [state.abbr for state in us.STATES]"
   ]
  },
  {
   "cell_type": "code",
   "execution_count": 295,
   "metadata": {},
   "outputs": [],
   "source": [
    "# len([el for x in state_abbrv for el in policies_str_cl if el.startswith(x) and len(el)<20])"
   ]
  },
  {
   "cell_type": "code",
   "execution_count": 289,
   "metadata": {},
   "outputs": [],
   "source": [
    "# # extract all info of interest\n",
    "# # policy_id = [el for x in state_abbrv for el in policies_str_cl if el.startswith(x) and len(el)<20]\n",
    "# policy_id = [policies_str_cl[i-3] for i, x in enumerate(policies_str_cl) if x == 'Status:']\n",
    "# # state = [el[:2] for x in state_abbrv for el in policies_str_cl if el.startswith(x) and len(el)<20]\n",
    "# state = [el[:2] for el in policy_id]\n",
    "# year = [el for el in policies_str_cl if el.startswith(\"2021\") or el.startswith(\"2020\")]\n",
    "# status = [policies_str_cl[i+1] for i, x in enumerate(policies_str_cl) if x == 'Status:']\n",
    "# DOLA = [policies_str_cl[i+1] for i, x in enumerate(policies_str_cl) if x == 'Date of Last Action:*\\xa0']\n",
    "# author = [policies_str_cl[i+1] for i, x in enumerate(policies_str_cl) if x == 'Author:']\n",
    "# topics = [policies_str_cl[i+1] for i, x in enumerate(policies_str_cl) if x == 'Topics: ']\n",
    "# summary = [policies_str_cl[i+1] for i, x in enumerate(policies_str_cl) if x == 'Summary: ']\n",
    "# history = [policies_str_cl[i-4] for i, x in enumerate(policies_str_cl) if x == 'Status:']\n",
    "\n",
    "# df_data = {\"policy_id\": policy_id, \"state\": state, \"year\": year, \"status\": status, \n",
    "#            \"date_of_last_action\": DOLA, \"author\": author, \"topics\": topics, \"summary\": summary, \"history\": history}\n",
    "\n",
    "# df_policies = pd.DataFrame.from_dict(df_data)"
   ]
  },
  {
   "cell_type": "code",
   "execution_count": 290,
   "metadata": {},
   "outputs": [],
   "source": [
    "# policies_str_cl[:100]"
   ]
  },
  {
   "cell_type": "code",
   "execution_count": 291,
   "metadata": {},
   "outputs": [],
   "source": [
    "# [policies_str_cl[i-4] for i, x in enumerate(policies_str_cl) if x == 'Status:']"
   ]
  },
  {
   "cell_type": "code",
   "execution_count": null,
   "metadata": {},
   "outputs": [],
   "source": []
  },
  {
   "cell_type": "code",
   "execution_count": null,
   "metadata": {},
   "outputs": [],
   "source": []
  },
  {
   "cell_type": "code",
   "execution_count": null,
   "metadata": {},
   "outputs": [],
   "source": []
  }
 ],
 "metadata": {
  "kernelspec": {
   "display_name": "Python 3",
   "language": "python",
   "name": "python3"
  },
  "language_info": {
   "codemirror_mode": {
    "name": "ipython",
    "version": 3
   },
   "file_extension": ".py",
   "mimetype": "text/x-python",
   "name": "python",
   "nbconvert_exporter": "python",
   "pygments_lexer": "ipython3",
   "version": "3.7.3"
  }
 },
 "nbformat": 4,
 "nbformat_minor": 4
}
